{
  "nbformat": 4,
  "nbformat_minor": 0,
  "metadata": {
    "colab": {
      "provenance": [],
      "authorship_tag": "ABX9TyMLugBkempezHHOe15XOX6F",
      "include_colab_link": true
    },
    "kernelspec": {
      "name": "python3",
      "display_name": "Python 3"
    },
    "language_info": {
      "name": "python"
    }
  },
  "cells": [
    {
      "cell_type": "markdown",
      "metadata": {
        "id": "view-in-github",
        "colab_type": "text"
      },
      "source": [
        "<a href=\"https://colab.research.google.com/github/Hilmihibatullah1/PengenalanPython/blob/main/PSDS_P11.ipynb\" target=\"_parent\"><img src=\"https://colab.research.google.com/assets/colab-badge.svg\" alt=\"Open In Colab\"/></a>"
      ]
    },
    {
      "cell_type": "markdown",
      "source": [
        "# Function\n",
        "\n",
        "adalah sebuah blok statement yang hanya akan dijalankan saat dipanggil\n",
        "\n",
        "Fungsi len() untuk mengukur jumlah elemen dalam sebuah list dan fungsi print() untuk menampilkan pesan pada layar konsol merupakan contoh dari bentuk fungsi yang telah disediakan oleh bahasa pemrograman python, dengan kata lain built-in function.\n",
        "\n",
        "Selain fungsi yang telah disediakan oleh python, python mengizinkan untuk mendeklarasikan fungsi dalam kode yang dituliskan yang dikenal dengan user defined function.\n",
        "\n",
        "```\n",
        "def nama_fungsi (argument):\n",
        "  statement1\n",
        "  .\n",
        "  .\n",
        "  statementn\n",
        "  return returned_value\n",
        "  ```\n",
        "\n",
        "\n",
        "\n",
        "*   nama_fungsi adalah untuk fungsi yang anda definisikan, memiliki aturan seperti penamaan variabel\n",
        "*   argument adalah variabel masukan ke fungsi, biasa tanpa variabel, satu variabel atau lebih\n",
        "* statement1... statementn adalah algoritma yang telah anda transfer dalam bahasa python yang merupakan inti dari fungsi yang anda definisikan. seluruh statement adalah menjorok (indent) ke dalam seperti pernah anda pelajari pada conditioning dan looping.\n",
        "* return_value adalah variabel output dari fungsi anda, bisa tanpa variabel, satu variabel atau lebih.\n",
        "\n"
      ],
      "metadata": {
        "id": "d04M_gWIXOkZ"
      }
    },
    {
      "cell_type": "markdown",
      "source": [
        "## Argumen dan Parameter\n",
        "\n",
        "* Parameter adalah variabel yang digunakan dalam deklarasi fungsi\n",
        "* Argumen adalah nilai yang diberikan saat pemanggilan fungsi"
      ],
      "metadata": {
        "id": "WsgxCjYNaFrv"
      }
    },
    {
      "cell_type": "code",
      "source": [
        "def print_nama(nama): #'nama' adalah parameter\n",
        "  print(nama)\n",
        "\n",
        "print_nama('Budi')#'Budi' adalah argumen"
      ],
      "metadata": {
        "colab": {
          "base_uri": "https://localhost:8080/"
        },
        "id": "H28gPJ1uaWW2",
        "outputId": "a297d471-cf14-4333-97cc-bfc9103ffe5b"
      },
      "execution_count": 1,
      "outputs": [
        {
          "output_type": "stream",
          "name": "stdout",
          "text": [
            "Budi\n"
          ]
        }
      ]
    },
    {
      "cell_type": "markdown",
      "source": [
        "## Argumen posisi dan kata kunci\n",
        "\n",
        "kita bisa menyatakan argumen posisi atau kata kunci. Beberapa manfaat argumen kata kunci dapat berupa:\n",
        "\n",
        "* Kita dapat menyebut argumen dengan mereka untuk memperjelad apa yang mereka wakili\n",
        "* Kita dapat mengatur ulang argumen dengan cara membuatnya paling mudah dibaca"
      ],
      "metadata": {
        "id": "y-DQv09HanyH"
      }
    },
    {
      "cell_type": "code",
      "source": [
        "def angka(a,b,c):\n",
        "  print(a,b,c)\n",
        "\n",
        "#argumen posisi\n",
        "#argumen berrdasarkan posisinya\n",
        "angka(1,2,3)\n",
        "\n",
        "#argumen berdasarkan kata kuncinya\n",
        "angka(a=1, b=2, c=3)\n",
        "angka(c=3, b=2, a=1)"
      ],
      "metadata": {
        "colab": {
          "base_uri": "https://localhost:8080/"
        },
        "id": "gxk26YnlbJfx",
        "outputId": "99169e5c-7406-42e1-b842-7aeadb5b1e68"
      },
      "execution_count": 2,
      "outputs": [
        {
          "output_type": "stream",
          "name": "stdout",
          "text": [
            "1 2 3\n",
            "1 2 3\n",
            "1 2 3\n"
          ]
        }
      ]
    },
    {
      "cell_type": "code",
      "source": [
        "#catatan: jika sudah diberi kunci makan urutan tidak menjadi penting\n",
        "#campuran antaara argumen posisi dan argumen kaaata kunci\n",
        "angka(1, b=2, c=3)\n",
        "\n",
        "#ini tidak diijinkan:\n",
        "#foo(1, b=2, 3) argumen posisional setelah argumen kunci\n",
        "#foo(1, b=2, a=3) terdapat dua nilai untuk argumen kunci 'a'"
      ],
      "metadata": {
        "colab": {
          "base_uri": "https://localhost:8080/"
        },
        "id": "GdsUcbFdbqyd",
        "outputId": "a2d6514d-aefa-4d26-bf1f-437a9d75ae6c"
      },
      "execution_count": 3,
      "outputs": [
        {
          "output_type": "stream",
          "name": "stdout",
          "text": [
            "1 2 3\n"
          ]
        }
      ]
    },
    {
      "cell_type": "markdown",
      "source": [
        "## Argumen Default\n",
        "\n",
        "Fungsi dapat memiliki argumen defaukt dengan nilai yang telah ditentukan sebelumnya. Argumen ini dapat ditinggalkan dan nilai default kemudian diteruskan ke fungsi , atau argumen dapat dirubah dengan nilai yang berbeda. perhatikan bahwa argumen default harus ditentukan sebagai **parameter terakhir** dalam suatu fungsi"
      ],
      "metadata": {
        "id": "v2yTh0JqgHGt"
      }
    },
    {
      "cell_type": "code",
      "execution_count": 4,
      "metadata": {
        "id": "TRvSDGlaf7Z7",
        "colab": {
          "base_uri": "https://localhost:8080/"
        },
        "outputId": "74c3555e-dbd7-4836-c6c5-9a0fa8b05692"
      },
      "outputs": [
        {
          "output_type": "stream",
          "name": "stdout",
          "text": [
            "1 2 3 4\n",
            "1 2 3 100\n"
          ]
        }
      ],
      "source": [
        "def angka2(a,b,c,d=4):\n",
        "  print(a,b,c,d)\n",
        "\n",
        "angka2(1,2,3,4)\n",
        "angka2(1, b=2, c=3, d=100)\n",
        "#argumen default harus diletakan terrakhir"
      ]
    },
    {
      "cell_type": "markdown",
      "source": [
        "## Praktik membuat fungsi"
      ],
      "metadata": {
        "id": "hLuT600edXDG"
      }
    },
    {
      "cell_type": "code",
      "source": [
        "x=1\n",
        "y=2\n",
        "x*y"
      ],
      "metadata": {
        "colab": {
          "base_uri": "https://localhost:8080/"
        },
        "id": "YqlVZYeGdTDe",
        "outputId": "70321a3d-b5a3-46c1-9fb6-5f5d0b78e746"
      },
      "execution_count": 5,
      "outputs": [
        {
          "output_type": "execute_result",
          "data": {
            "text/plain": [
              "2"
            ]
          },
          "metadata": {},
          "execution_count": 5
        }
      ]
    },
    {
      "cell_type": "code",
      "source": [
        "def penjumlahan(x,y): #input\n",
        "  a=x+y #proses\n",
        "  return a #output\n",
        "\n",
        "penjumlahan(1,2)\n"
      ],
      "metadata": {
        "id": "-edrHInygaX8",
        "colab": {
          "base_uri": "https://localhost:8080/"
        },
        "outputId": "3a419bd6-ae30-4e13-c56e-e22ad4562770"
      },
      "execution_count": 6,
      "outputs": [
        {
          "output_type": "execute_result",
          "data": {
            "text/plain": [
              "3"
            ]
          },
          "metadata": {},
          "execution_count": 6
        }
      ]
    },
    {
      "cell_type": "code",
      "source": [
        "#Penjumlahan yang memungkinkan untuk 3 bilangan\n",
        "def penjumlahan(x,y,z=None):\n",
        "  if(z==None):\n",
        "    return x+y\n",
        "  else:\n",
        "    return x+y+z\n",
        "print(penjumlahan(1,2))\n",
        "print(penjumlahan(1,2,3))\n"
      ],
      "metadata": {
        "id": "WfiJ01pvgn4g",
        "colab": {
          "base_uri": "https://localhost:8080/"
        },
        "outputId": "03f7f942-dd76-470a-e795-68ddd99fe0cf"
      },
      "execution_count": 7,
      "outputs": [
        {
          "output_type": "stream",
          "name": "stdout",
          "text": [
            "3\n",
            "6\n"
          ]
        }
      ]
    },
    {
      "cell_type": "code",
      "source": [
        "#menyimpan hasil fungsi dalam variabel\n",
        "def penjumlahan(x,y):\n",
        "  return x+y\n",
        "a = penjumlahan\n",
        "a(1,2)"
      ],
      "metadata": {
        "id": "ZdeXH2AmguAy",
        "colab": {
          "base_uri": "https://localhost:8080/"
        },
        "outputId": "d42868af-6bf0-4dfe-d094-be18b400d3df"
      },
      "execution_count": 8,
      "outputs": [
        {
          "output_type": "execute_result",
          "data": {
            "text/plain": [
              "3"
            ]
          },
          "metadata": {},
          "execution_count": 8
        }
      ]
    },
    {
      "cell_type": "markdown",
      "source": [
        "## **Latihan 1**\n",
        "\n",
        "\n",
        "buatlah function phytagoras dengan input argumennya panjang tinggi dan alas segitiga untuk menghasilkan output nilai panjang sisi miring"
      ],
      "metadata": {
        "id": "w00ZKoRJjCua"
      }
    },
    {
      "cell_type": "code",
      "source": [
        "import math\n",
        "\n",
        "def phytagoras(panjang_tinggi,alas_segitiga):\n",
        "    panjang_sisi_miring = math.sqrt((panjang_tinggi ** 2) + (alas_segitiga ** 2))\n",
        "    return panjang_sisi_miring\n",
        "\n",
        "# Eksekusi penggunaan fungsi\n",
        "tinggi = int(input(\"tinggi segitiga :\"))\n",
        "alas = int(input(\"panjang alas segitiga :\"))\n",
        "nilai_panjang_sisi_miring = phytagoras(tinggi, alas)\n",
        "print(\"Panjang sisi miring segitiga adalah:\", nilai_panjang_sisi_miring)\n"
      ],
      "metadata": {
        "colab": {
          "base_uri": "https://localhost:8080/"
        },
        "id": "FFtAM8e4jTlD",
        "outputId": "3b904164-26c3-446e-d3c4-b04ae4bcf369"
      },
      "execution_count": null,
      "outputs": [
        {
          "output_type": "stream",
          "name": "stdout",
          "text": [
            "tinggi segitiga :4\n",
            "panjang alas segitiga :3\n",
            "Panjang sisi miring segitiga adalah: 5.0\n"
          ]
        }
      ]
    },
    {
      "cell_type": "markdown",
      "source": [
        "**Latihan 2**\n",
        "\n",
        "Buatlah function luas permukaan balok dengan input argumennya panjang, lebar, dan tinggi balok dari balok untuk menghasilkan output nilai luas permukaan balok tersebut"
      ],
      "metadata": {
        "id": "BvwhPMwgk3zV"
      }
    },
    {
      "cell_type": "code",
      "source": [
        "panjang = 5\n",
        "lebar = 3\n",
        "tinggi = 2"
      ],
      "metadata": {
        "id": "J3FB1wwtkt0E"
      },
      "execution_count": null,
      "outputs": []
    },
    {
      "cell_type": "code",
      "source": [
        "def luas_permukaan_balok(panjang, lebar, tinggi):\n",
        "  luas_permukaan_balok = (2*(panjang*lebar+panjang*tinggi+lebar*tinggi))\n",
        "  return luas_permukaan_balok\n",
        "\n",
        "#Eksekusi penggunaan fungsi\n",
        "panjang = int(input(\"panjang :\"))\n",
        "lebar = int(input(\"lebar :\"))\n",
        "tinggi = int(input(\"tinggi :\"))\n",
        "luas_permukaan_balok = luas_permukaan_balok(panjang, lebar, tinggi)\n",
        "print(\"luas permukaan baloknya adalah :\", luas_permukaan_balok)"
      ],
      "metadata": {
        "colab": {
          "base_uri": "https://localhost:8080/"
        },
        "id": "V8OSk2XslUtZ",
        "outputId": "c8d107e7-965c-41e9-8375-8cfe9221762d"
      },
      "execution_count": null,
      "outputs": [
        {
          "output_type": "stream",
          "name": "stdout",
          "text": [
            "panjang :4\n",
            "lebar :2\n",
            "tinggi :5\n",
            "luas permukaan baloknya adalah : 76\n"
          ]
        }
      ]
    },
    {
      "cell_type": "markdown",
      "source": [
        "# Lambda\n",
        "\n",
        "Fungsi lambda adalah fungsi anonim ```one line```yang didefinisikan tanpa nama.\n",
        "fungsi lambda dapat mengambil sejumlah\n",
        "```arguments```, tetapi hanya dapat memiliki satu ```expression```.\n",
        "Sementara fungsi normal didefinisikan menggunakan kata kunci ```def```, dalam python fungsi anonim didefinisikan menggunakan kata kunci lambda.\n",
        "\n",
        "Fungsi lambda digunakan ketika fungsi sederhana hanya digunakan sekali atau untuk waktu yang singkat dalam kode kita. penggunaannya yang paling umum adalah sebagai argumen fungsi tingkat tinggi (fungsi yang menggunakan fungsi lain sebagai argumen).\n",
        "\n",
        "Lambda exxpression di python adalah sebuah ekspresi untuk membuat fungsi.\n",
        "\n",
        "Lambda sendiri berasal dari teori kalkulus, yakni lambda calculus yang dikenalkan oleh Alonzo Church di tahun 1930.\n",
        "\n",
        "Berkat lambda, kita bisa membuat fungsi tanpa nama atau dikenal juga dengan anonymous function."
      ],
      "metadata": {
        "id": "kXpdfHVnedAP"
      }
    },
    {
      "cell_type": "markdown",
      "source": [
        "![image.png](data:image/png;base64,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)"
      ],
      "metadata": {
        "id": "WAB70Qvwg19Z"
      }
    },
    {
      "cell_type": "markdown",
      "source": [
        "lambda bisa memiliki lebih dari satu argumen atau parameter, tapi hanya bisa memiliki satu ekspresi atau isi."
      ],
      "metadata": {
        "id": "9KU2tj9Cg6tz"
      }
    },
    {
      "cell_type": "code",
      "source": [
        "greeting = lambda name :print(f\"hello\",(name))"
      ],
      "metadata": {
        "id": "ydK2UpBMg4it"
      },
      "execution_count": 12,
      "outputs": []
    },
    {
      "cell_type": "markdown",
      "source": [
        "karena fungsi lambda tidak punya nama, jadi kita butuh variabel untuk menyimpannya.\n",
        "\n",
        "nanti saat akan kita panggil, kita tinggal tuliskan saja nama variabelnya seperti iini:"
      ],
      "metadata": {
        "id": "Umj0_M12hPAr"
      }
    },
    {
      "cell_type": "code",
      "source": [
        "greeting(\"dian\")\n",
        "greeting('ayu')"
      ],
      "metadata": {
        "colab": {
          "base_uri": "https://localhost:8080/"
        },
        "id": "FJ2_9T4YhN9m",
        "outputId": "316261fa-95de-4131-df6f-7f419a8737bf"
      },
      "execution_count": 13,
      "outputs": [
        {
          "output_type": "stream",
          "name": "stdout",
          "text": [
            "hello dian\n",
            "hello ayu\n"
          ]
        }
      ]
    },
    {
      "cell_type": "code",
      "source": [
        "#fungsi lambda untuk menambahkan angka 10 kepada argumen input\n",
        "f = lambda x: x+10\n",
        "val1 = f(5)\n",
        "val2 = f(100)\n",
        "print(val1,val2)"
      ],
      "metadata": {
        "colab": {
          "base_uri": "https://localhost:8080/"
        },
        "id": "IyafBiCMhh0Y",
        "outputId": "f78578c2-782b-4b1f-a6f8-7f90e63fd4cd"
      },
      "execution_count": 14,
      "outputs": [
        {
          "output_type": "stream",
          "name": "stdout",
          "text": [
            "15 110\n"
          ]
        }
      ]
    },
    {
      "cell_type": "code",
      "source": [
        "#fungsi lambda untuk mengalikan dua argumen input dan menampilkan hasilnya\n",
        "f = lambda x,y: x*y\n",
        "val3 = f(2,10)\n",
        "val4 = f(7,5)\n",
        "print(val3, val4)"
      ],
      "metadata": {
        "colab": {
          "base_uri": "https://localhost:8080/"
        },
        "id": "0XA9E5_oiIMf",
        "outputId": "058c8373-e7ae-4b5f-a4db-94ed528faada"
      },
      "execution_count": 15,
      "outputs": [
        {
          "output_type": "stream",
          "name": "stdout",
          "text": [
            "20 35\n"
          ]
        }
      ]
    },
    {
      "cell_type": "markdown",
      "source": [
        "## Anonymous Function\n",
        "\n",
        "karena lambda adalah anonymous function, ia akan bebas menggunakan nama apa saja. Dengan kata lain, fungsi lambda bisa disimpan di variabel manapun. ini tentunya tidak bisa dilakukan oleh fungsi yang dibuat dengan def. coba perhatikan ini:\n"
      ],
      "metadata": {
        "id": "12tthTvsih9f"
      }
    },
    {
      "cell_type": "code",
      "source": [
        "def say_hello(nama):\n",
        "  print(f\"hello (nama), apa kabar\"))\n",
        "ucapin = say_hello(nama)"
      ],
      "metadata": {
        "colab": {
          "base_uri": "https://localhost:8080/",
          "height": 130
        },
        "id": "ZXDtuelMifeN",
        "outputId": "4ffdda56-2a72-4caa-97e1-e6f6246865a1"
      },
      "execution_count": 16,
      "outputs": [
        {
          "output_type": "error",
          "ename": "SyntaxError",
          "evalue": "ignored",
          "traceback": [
            "\u001b[0;36m  File \u001b[0;32m\"<ipython-input-16-76f0ba75f4be>\"\u001b[0;36m, line \u001b[0;32m2\u001b[0m\n\u001b[0;31m    print(f\"hello (nama), apa kabar\"))\u001b[0m\n\u001b[0m                                     ^\u001b[0m\n\u001b[0;31mSyntaxError\u001b[0m\u001b[0;31m:\u001b[0m unmatched ')'\n"
          ]
        }
      ]
    },
    {
      "cell_type": "markdown",
      "source": [
        "saya mencoba membuat fungsi say_hello dengan def, kemudian menyimpannya ke dalam variabel ucapin. tapi malah eror.\n",
        "\n",
        "ini karena fungsi tersebut bukanlah fungsi anonymous yang boleh diubah ubah namanya.\n",
        "\n",
        "lalu coba perhatikan dibaris terakhir, fungsi lambda greeting() yang sudah disimpan lagi ke variabel yang berbeda, yakni sapa"
      ],
      "metadata": {
        "id": "nNEJqGMbjYlG"
      }
    },
    {
      "cell_type": "code",
      "source": [
        "greeting = lambda name: print(f\"hello, (name)\")\n",
        "sapa = greeting\n",
        "greeting(\"andi\")\n",
        "sapa(\"neli\")"
      ],
      "metadata": {
        "colab": {
          "base_uri": "https://localhost:8080/"
        },
        "id": "RJi-F2IzjTJ5",
        "outputId": "41ce0493-8a17-4bc9-8d1a-b9eb5645c9a6"
      },
      "execution_count": 17,
      "outputs": [
        {
          "output_type": "stream",
          "name": "stdout",
          "text": [
            "hello, (name)\n",
            "hello, (name)\n"
          ]
        }
      ]
    },
    {
      "cell_type": "code",
      "source": [
        "greeting = lambda name: print(f\"hello\", (name))\n",
        "sapa = greeting\n",
        "greeting(\"andi\")\n",
        "sapa(\"neli\")"
      ],
      "metadata": {
        "colab": {
          "base_uri": "https://localhost:8080/"
        },
        "id": "Wfxm35aokGxU",
        "outputId": "51abb300-a295-4168-a9ec-93eb6a1ff472"
      },
      "execution_count": 20,
      "outputs": [
        {
          "output_type": "stream",
          "name": "stdout",
          "text": [
            "hello andi\n",
            "hello neli\n"
          ]
        }
      ]
    },
    {
      "cell_type": "markdown",
      "source": [
        "hasilnya tidak eror, karena ini adalah fungsi anonymous atau lambda"
      ],
      "metadata": {
        "id": "EDMHtf_WkZ4F"
      }
    },
    {
      "cell_type": "markdown",
      "source": [
        "## Eksekusi lambda secara langsung\n",
        "\n",
        "Eksekusi lambda secara langsung kelebihan fungsi dibandingkan def adalah bisa kita eksekusi secara langsung.\n",
        "\n",
        "contohnya:"
      ],
      "metadata": {
        "id": "z7_K3tKRkhrZ"
      }
    },
    {
      "cell_type": "code",
      "source": [
        "(lambda x,y : x**2 + y**2)(4,6)"
      ],
      "metadata": {
        "colab": {
          "base_uri": "https://localhost:8080/"
        },
        "id": "S9CvTct3kOOw",
        "outputId": "5ea51802-d65a-4d47-8c60-abfc0d616298"
      },
      "execution_count": 21,
      "outputs": [
        {
          "output_type": "execute_result",
          "data": {
            "text/plain": [
              "52"
            ]
          },
          "metadata": {},
          "execution_count": 21
        }
      ]
    },
    {
      "cell_type": "markdown",
      "source": [
        "tanda kurung yang mengapit fungsi lambda artinya akan langsung mengeksekusi fungsi tersebut.\n",
        "\n",
        "lalu kurung berikutnya akan berisi parameter.\n",
        "\n",
        "angka 4 dan 6 adalah parameter x dan y yang akan diberikan kepada fungsi lambda.\n",
        "\n",
        "maka kita kan langsung mendapatkan hasilnya yakni 4**2 +6**2 = 52\n",
        "\n",
        "hasil eksekusi ini bisa juga kita simpan kedalam variabel:"
      ],
      "metadata": {
        "id": "8m5cSH2_lxVt"
      }
    },
    {
      "cell_type": "code",
      "source": [
        "hasil = (lambda x,y : x**2 + y**2)(4,6)"
      ],
      "metadata": {
        "id": "tOYkHq0_lvyA"
      },
      "execution_count": 22,
      "outputs": []
    },
    {
      "cell_type": "markdown",
      "source": [
        "## Mengapa harus pakai lambda\n",
        "\n",
        "kita memang tidak harus selalu menggunakan lambda, tapi dalam kasus tertentu lambda lebih baik dibandingkan dengan def atau fungsi biasa.\n",
        "\n",
        "lambda biasanya dibutuhkan saat kita ingin membuat fungsi daalam satu baris.\n",
        "\n",
        "biasanya saat menggunakan fungsi fungsi seperti ``` filter (), map(), dan reduce()``` kita membutuhkan lambda.\n",
        "\n",
        "mengapa?\n",
        "\n",
        "karena fungsi fungsi tersebut membutuhkan parameter fungsi\n",
        "\n",
        "contoh:"
      ],
      "metadata": {
        "id": "0IoLQHfambXo"
      }
    },
    {
      "cell_type": "code",
      "source": [
        "bilangan =[10,2,8,7,5,4,3,11,0,1]\n",
        "filtered_result = map(lambda x: x*x, bilangan)\n",
        "print(list(filtered_result))"
      ],
      "metadata": {
        "colab": {
          "base_uri": "https://localhost:8080/"
        },
        "id": "sQbL3RAhmaJ5",
        "outputId": "7efc72ef-45fd-42e4-e137-a597cb49f12f"
      },
      "execution_count": 23,
      "outputs": [
        {
          "output_type": "stream",
          "name": "stdout",
          "text": [
            "[100, 4, 64, 49, 25, 16, 9, 121, 0, 1]\n"
          ]
        }
      ]
    },
    {
      "cell_type": "markdown",
      "source": [
        "pada fungsi map() kita memberikan parameter dengan fungsi lambda.\n",
        "\n",
        "mengapa bisa begitu?\n",
        "\n",
        "karena lambda bisa disimpan ke dalam variabel, otomatis dia akan bisa juga jadi parameter.\n",
        "\n",
        "satu lagi contoh dengan fungsi filter()"
      ],
      "metadata": {
        "id": "3skN1S2MnYYu"
      }
    },
    {
      "cell_type": "code",
      "source": [
        "#menentukan bilangan genap\n",
        "genap = lambda x: x%2 == 0\n",
        "list(filter(genap, range(11)))"
      ],
      "metadata": {
        "colab": {
          "base_uri": "https://localhost:8080/"
        },
        "id": "zd4gNdEInV_s",
        "outputId": "0fd8d3b3-4cfb-40be-d58a-1ea4996f3e1e"
      },
      "execution_count": 24,
      "outputs": [
        {
          "output_type": "execute_result",
          "data": {
            "text/plain": [
              "[0, 2, 4, 6, 8, 10]"
            ]
          },
          "metadata": {},
          "execution_count": 24
        }
      ]
    },
    {
      "cell_type": "markdown",
      "source": [
        "## Latihan 1\n",
        "\n",
        "Buatlah fungsi lambda untuk menghitung luas dari persegi panjang"
      ],
      "metadata": {
        "id": "7bAjk-Q1n_pW"
      }
    },
    {
      "cell_type": "code",
      "source": [
        "luas_persegi_panjang = lambda panjang, lebar: panjang * lebar\n",
        "\n",
        "# Contoh penggunaan\n",
        "panjang = 7\n",
        "lebar = 4\n",
        "luas = luas_persegi_panjang(panjang, lebar)\n",
        "print(\"Luas Persegi Panjang:\", luas)\n"
      ],
      "metadata": {
        "colab": {
          "base_uri": "https://localhost:8080/"
        },
        "id": "2s2RZfDfoNsD",
        "outputId": "3d84c61e-c6ce-4faf-d982-acb832900594"
      },
      "execution_count": 25,
      "outputs": [
        {
          "output_type": "stream",
          "name": "stdout",
          "text": [
            "Luas Persegi Panjang: 28\n"
          ]
        }
      ]
    },
    {
      "cell_type": "markdown",
      "source": [
        "## Latihan 2\n",
        "\n",
        "Buatlah fungsi lambda untuk menghitung luas dari segitiga"
      ],
      "metadata": {
        "id": "iOcg8FujohvD"
      }
    },
    {
      "cell_type": "code",
      "source": [
        "luas_segitiga = lambda alas, tinggi: (alas * tinggi) / 2\n",
        "\n",
        "# Contoh penggunaan\n",
        "alas = 8\n",
        "tinggi = 5\n",
        "luas = luas_segitiga(alas, tinggi)\n",
        "print(\"Luas Segitiga:\", luas)"
      ],
      "metadata": {
        "colab": {
          "base_uri": "https://localhost:8080/"
        },
        "id": "NgYaX0xmop1b",
        "outputId": "c12304eb-1bc1-4275-a081-b5e11d9ebd84"
      },
      "execution_count": 26,
      "outputs": [
        {
          "output_type": "stream",
          "name": "stdout",
          "text": [
            "Luas Segitiga: 20.0\n"
          ]
        }
      ]
    }
  ]
}
