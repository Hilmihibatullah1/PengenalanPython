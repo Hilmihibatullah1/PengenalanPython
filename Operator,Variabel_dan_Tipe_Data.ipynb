{
  "nbformat": 4,
  "nbformat_minor": 0,
  "metadata": {
    "colab": {
      "provenance": [],
      "authorship_tag": "ABX9TyOkaS15BLiIJxME0ZRckl7G",
      "include_colab_link": true
    },
    "kernelspec": {
      "name": "python3",
      "display_name": "Python 3"
    },
    "language_info": {
      "name": "python"
    }
  },
  "cells": [
    {
      "cell_type": "markdown",
      "metadata": {
        "id": "view-in-github",
        "colab_type": "text"
      },
      "source": [
        "<a href=\"https://colab.research.google.com/github/Hilmihibatullah1/PengenalanPython/blob/main/Operator%2CVariabel_dan_Tipe_Data.ipynb\" target=\"_parent\"><img src=\"https://colab.research.google.com/assets/colab-badge.svg\" alt=\"Open In Colab\"/></a>"
      ]
    },
    {
      "cell_type": "markdown",
      "source": [
        "#Operator\n",
        "\n",
        "Operator simbol simbol yang dapat digunakan untuk mengubah nilai dari satu variabel dengan melibatkan satu atau lebih variabel dan literal.\n",
        "\n",
        "Tipe - tipe operator :\n",
        "\n",
        "1. Operator Aritmatika\n",
        "\n",
        "2. Operator Assigment\n",
        "\n",
        "3. Operator Pembanding\n",
        "\n",
        "4. Operator Logika\n",
        "\n",
        "5. Operator Membership\n"
      ],
      "metadata": {
        "id": "V5SxdaUqCx-z"
      }
    },
    {
      "cell_type": "markdown",
      "source": [
        "## Operator Aritmatika\n",
        "\n",
        "Operator aritmatika digunakan untuk melakukan operasi matematika yang umum.\n",
        "\n",
        "Macam - macam operator aritmatika, yaitu\n",
        "\n",
        "'+' = penjumlahan\n",
        "\n",
        "'-' = pengurangan\n",
        "\n",
        "'*' = perkalian\n",
        "\n",
        "/ = pembagian\n",
        "\n",
        "% = modulus\n",
        "\n",
        "** = perpangkatan\n",
        "\n",
        "// = pembagian dengan hasil pembulatan flooring"
      ],
      "metadata": {
        "id": "Y5soZ53fDsJt"
      }
    },
    {
      "cell_type": "code",
      "execution_count": 1,
      "metadata": {
        "id": "RyEcEpBg6z_I",
        "colab": {
          "base_uri": "https://localhost:8080/"
        },
        "outputId": "6c3e80e7-2c58-4a39-ea47-872dda7b69b9"
      },
      "outputs": [
        {
          "output_type": "stream",
          "name": "stdout",
          "text": [
            "penjumlahan\n",
            "4\n",
            "pengurangan\n",
            "--------------------\n",
            "-1\n",
            "perkalian\n",
            "--------------------\n",
            "6\n",
            "pembagian\n",
            "--------------------\n",
            "0.6666666666666666\n",
            "Modulus\n",
            "--------------------\n",
            "8\n",
            "pembagian pembulatan flooring\n",
            "--------------------\n",
            "1\n"
          ]
        }
      ],
      "source": [
        "#Penjumlahan\n",
        "print('penjumlahan')\n",
        "print(2+2)\n",
        "#Pengurangan\n",
        "print('pengurangan')\n",
        "print('-'*20)\n",
        "print(2-3)\n",
        "#Perkalian\n",
        "print('perkalian')\n",
        "print('-'*20)\n",
        "print(2*3)\n",
        "#Pembagian\n",
        "print('pembagian')\n",
        "print('-'*20)\n",
        "print(2/3)\n",
        "#Modulus\n",
        "print('Modulus')\n",
        "print('-'*20)\n",
        "print(2**3)\n",
        "#Pembagian dengan hasil pembulatan flooring\n",
        "print('pembagian pembulatan flooring')\n",
        "print('-'*20)\n",
        "print(3//2)"
      ]
    },
    {
      "cell_type": "code",
      "source": [
        "# Latihan Operator\n",
        "#Penjumlahan\n",
        "print('penjumlahan')\n",
        "print(3+5)\n",
        "#Pengurangan\n",
        "print('pengurangan')\n",
        "print('-'*20)\n",
        "print(5-4)\n",
        "#Perkalian\n",
        "print('perkalian')\n",
        "print('-'*20)\n",
        "print(3*4)\n",
        "#Pembagian\n",
        "print('pembagian')\n",
        "print('-'*20)\n",
        "print(4/2)\n",
        "#Modulus\n",
        "print('Modulus')\n",
        "print('-'*20)\n",
        "print(4**7)\n",
        "#Pembagian dengan hasil pembulatan flooring\n",
        "print('pembagian pembulatan flooring')\n",
        "print('-'*20)\n",
        "print(12//8)"
      ],
      "metadata": {
        "colab": {
          "base_uri": "https://localhost:8080/"
        },
        "id": "cyicrYPJOL_s",
        "outputId": "0884e9e9-612e-4ffa-e12a-f801f3aff388"
      },
      "execution_count": 2,
      "outputs": [
        {
          "output_type": "stream",
          "name": "stdout",
          "text": [
            "penjumlahan\n",
            "8\n",
            "pengurangan\n",
            "--------------------\n",
            "1\n",
            "perkalian\n",
            "--------------------\n",
            "12\n",
            "pembagian\n",
            "--------------------\n",
            "2.0\n",
            "Modulus\n",
            "--------------------\n",
            "16384\n",
            "pembagian pembulatan flooring\n",
            "--------------------\n",
            "1\n"
          ]
        }
      ]
    },
    {
      "cell_type": "markdown",
      "source": [
        "## Operator Assignment\n",
        "\n",
        "digunakan untuk menyimpan nilai menjadi suatu variabel\n",
        "\n",
        "= Contohnya x=5 -> x=5\n",
        "\n",
        "+= contohnya x=x+5 -> x+=5\n",
        "\n",
        "-=\n",
        "\n",
        "*=\n",
        "\n",
        "/=\n",
        "\n",
        "%=\n",
        "\n",
        "//=\n",
        "\n",
        "**="
      ],
      "metadata": {
        "id": "AJVfRWnnU5XJ"
      }
    },
    {
      "cell_type": "code",
      "source": [
        "#Penjumlahan\n",
        "print('Penjumlahan')\n",
        "x=5\n",
        "x=x+5\n",
        "print(x)\n",
        "x-5\n",
        "x+=5\n",
        "print(x)\n",
        "#Pengurangan\n",
        "print('Pengurangan')\n",
        "x=5\n",
        "x=x-5\n",
        "print(x)\n",
        "x=5\n",
        "x-=3\n",
        "print(x)\n",
        "#Perkalian\n",
        "print('Perkalian')\n",
        "x=5\n",
        "x=x*5\n",
        "print(x)\n",
        "x=5\n",
        "x*=3\n",
        "print(x)\n",
        "#pembagian\n",
        "print('Pembagian')\n",
        "x=5\n",
        "x=x/5\n",
        "print(x)\n",
        "x=5\n",
        "x/=3\n",
        "print(x)\n",
        "#Modulus\n",
        "print('Modulus')\n",
        "x=5\n",
        "x=x%5\n",
        "print(x)\n",
        "x=5\n",
        "x%=3\n",
        "print(x)\n",
        "#Pembagian Flooring\n",
        "print('Pembagian flooring')\n",
        "x=5\n",
        "x=x//5\n",
        "print(x)\n",
        "x=5\n",
        "x//=3\n",
        "print(x)\n",
        "#Perpangkatan\n",
        "print('Perpangkatan')\n",
        "x=5\n",
        "x=x**5\n",
        "print(x)\n",
        "x=5\n",
        "x**=3\n",
        "print(x)"
      ],
      "metadata": {
        "colab": {
          "base_uri": "https://localhost:8080/"
        },
        "id": "avLkwdAwV1a_",
        "outputId": "396c1b98-1a1f-49ca-eefd-2bcec37db34d"
      },
      "execution_count": 4,
      "outputs": [
        {
          "output_type": "stream",
          "name": "stdout",
          "text": [
            "Penjumlahan\n",
            "10\n",
            "15\n",
            "Pengurangan\n",
            "0\n",
            "2\n",
            "Perkalian\n",
            "25\n",
            "15\n",
            "Pembagian\n",
            "1.0\n",
            "1.6666666666666667\n",
            "Modulus\n",
            "0\n",
            "2\n",
            "Pembagian flooring\n",
            "1\n",
            "1\n",
            "Perpangkatan\n",
            "3125\n",
            "125\n"
          ]
        }
      ]
    },
    {
      "cell_type": "code",
      "source": [
        "#Latihan\n",
        "a = 4\n",
        "a+=4\n",
        "print(a)\n",
        "a-=4\n",
        "print(a)\n",
        "a*=4\n",
        "print(a)\n",
        "a/=6\n",
        "print(a)\n",
        "a%=10\n",
        "print(a)\n",
        "a//=8\n",
        "print(a)\n",
        "a**=3\n",
        "print(a)"
      ],
      "metadata": {
        "colab": {
          "base_uri": "https://localhost:8080/"
        },
        "id": "QyJv_YqgYcFa",
        "outputId": "cb6a17b8-cb1d-4eaf-9b48-bc3be198180c"
      },
      "execution_count": 7,
      "outputs": [
        {
          "output_type": "stream",
          "name": "stdout",
          "text": [
            "8\n",
            "4\n",
            "16\n",
            "2.6666666666666665\n",
            "2.6666666666666665\n",
            "0.0\n",
            "0.0\n"
          ]
        }
      ]
    },
    {
      "cell_type": "markdown",
      "source": [
        "## Operator Pembanding\n",
        "\n",
        "Operator pembanding digunakan untuk membandingkan 2 nilai atau variabel.\n",
        "\n",
        "Macam macam operator pembanding ;\n",
        "\n",
        "== -> sama dengan\n",
        "\n",
        "!= -> tidak sama dengan\n",
        "\n",
        "'> -> lebih dari\n",
        "\n",
        "< -> kurang dari\n",
        "\n",
        "'>= -> lebih dari sama dengan\n",
        "\n",
        "<= -> kurang dari sama dengan"
      ],
      "metadata": {
        "id": "EdqRwYWfZV1t"
      }
    },
    {
      "cell_type": "code",
      "source": [
        "# Contoh\n",
        "print(2==2)\n",
        "print(2!=2)\n",
        "print(2>2)\n",
        "print(2<2)\n",
        "print(2>=2)\n",
        "print(2<=2)"
      ],
      "metadata": {
        "colab": {
          "base_uri": "https://localhost:8080/"
        },
        "id": "zpjDBHP9Z44l",
        "outputId": "d7b9bceb-cc88-4765-af84-4fe8f5788bb8"
      },
      "execution_count": 8,
      "outputs": [
        {
          "output_type": "stream",
          "name": "stdout",
          "text": [
            "True\n",
            "False\n",
            "False\n",
            "False\n",
            "True\n",
            "True\n"
          ]
        }
      ]
    },
    {
      "cell_type": "code",
      "source": [
        "#Latihan\n",
        "print(3==2)\n",
        "print(3!=2)\n",
        "print(3>2)\n",
        "print(3<2)\n",
        "print(3>=4)\n",
        "print(3<=5)"
      ],
      "metadata": {
        "colab": {
          "base_uri": "https://localhost:8080/"
        },
        "id": "tbOZvdoXaIyN",
        "outputId": "ea3b7746-6e43-4d1f-c764-a3e658b4abe6"
      },
      "execution_count": 9,
      "outputs": [
        {
          "output_type": "stream",
          "name": "stdout",
          "text": [
            "False\n",
            "True\n",
            "True\n",
            "False\n",
            "False\n",
            "True\n"
          ]
        }
      ]
    },
    {
      "cell_type": "markdown",
      "source": [
        "## Operator Logika\n",
        "\n",
        "digunakan untul mengkombinasikan statement statement kondisional\n",
        "\n",
        "and -> kondisi menjadi benar apabila semua statementnya benar\n",
        "\n",
        "or -> kondisi menjadi benar apabila salah satu statementnta ada yang benar\n",
        "\n",
        "not -> membalik hasil dari benar ke salah dan salah ke benar ( negasi)\n"
      ],
      "metadata": {
        "id": "IOvKDMa3au-C"
      }
    },
    {
      "cell_type": "code",
      "source": [
        "#Contoh\n",
        "print(True and True)\n",
        "print(True or False)\n",
        "print(not False)"
      ],
      "metadata": {
        "colab": {
          "base_uri": "https://localhost:8080/"
        },
        "id": "shYtW8c2bLXw",
        "outputId": "844614f6-39ce-489a-8cff-f6cd08fc72f7"
      },
      "execution_count": 10,
      "outputs": [
        {
          "output_type": "stream",
          "name": "stdout",
          "text": [
            "True\n",
            "True\n",
            "True\n"
          ]
        }
      ]
    },
    {
      "cell_type": "code",
      "source": [
        "#Latihan\n",
        "print(True and False)\n",
        "print(False or True)\n",
        "print(not True)"
      ],
      "metadata": {
        "colab": {
          "base_uri": "https://localhost:8080/"
        },
        "id": "uF0PAQc8bWpn",
        "outputId": "a16d2c24-1087-45dc-ab70-396b126c05ef"
      },
      "execution_count": 11,
      "outputs": [
        {
          "output_type": "stream",
          "name": "stdout",
          "text": [
            "False\n",
            "True\n",
            "False\n"
          ]
        }
      ]
    },
    {
      "cell_type": "markdown",
      "source": [
        "## Operator Membership/Keanggotaan\n",
        "\n",
        "digunakan untuk menguji apakah urutan disajikan dalam suatu objek\n",
        "\n",
        "Macam macam operator keanggotaan ;\n",
        "\n",
        "in -> return True ketika nilai tertentu ada dalam sebuah urutan\n",
        "\n",
        "not in -> return True ketika nilai tertentu tidak ada dalam sebuah urutan\n"
      ],
      "metadata": {
        "id": "bMWZDYOoblfJ"
      }
    },
    {
      "cell_type": "code",
      "source": [
        "#Contoh\n",
        "a=(1,2,3,4,5,6,7)\n",
        "b=2\n",
        "print(b in a)\n",
        "print(b not in a)\n",
        "c= 9\n",
        "print(c in a)"
      ],
      "metadata": {
        "colab": {
          "base_uri": "https://localhost:8080/"
        },
        "id": "4TEOAZwKcBZC",
        "outputId": "f498ad03-c000-480c-a754-f926c1a65081"
      },
      "execution_count": 12,
      "outputs": [
        {
          "output_type": "stream",
          "name": "stdout",
          "text": [
            "True\n",
            "False\n",
            "False\n"
          ]
        }
      ]
    },
    {
      "cell_type": "code",
      "source": [
        "#Latihan\n",
        "a=(3,5,7,8)\n",
        "b= 10\n",
        "print(b in a)\n",
        "print(b not in a)"
      ],
      "metadata": {
        "colab": {
          "base_uri": "https://localhost:8080/"
        },
        "id": "qsXEBQDFcW_X",
        "outputId": "1c44caa1-a6ea-4a47-f7d7-a859a65260f8"
      },
      "execution_count": 13,
      "outputs": [
        {
          "output_type": "stream",
          "name": "stdout",
          "text": [
            "False\n",
            "True\n"
          ]
        }
      ]
    },
    {
      "cell_type": "markdown",
      "source": [
        "# Variabel\n",
        "\n",
        "Lokal penyimpanan yang dapat digunakan untuk menampung sebuah data atau informasi.\n",
        "\n",
        "Syarat syarat penamaan variabel ;\n",
        "\n",
        "1. Karakter - Karakter yang digunakan untuk penamaan variabel adalah alphabet, angka dan underscore.\n",
        "\n",
        "2. Karakter pertama variabel harus berupa huruf atau garis bawah/underscore, dan tidak bisa berupa angka\n",
        "\n",
        "3. Nama sebuah variabel tidak bisa menggunakan keyword atau reserved word dari bahasa python seperti for, if, dan lainnya\n",
        "\n",
        "4. Karakter pada nam variabel bersifat sensitif (case sensitive)"
      ],
      "metadata": {
        "id": "Yp7ASbYScwEJ"
      }
    },
    {
      "cell_type": "code",
      "source": [
        "#Membuat variabel\n",
        "Kalimat ='ini adalah variabel'\n",
        "bilang1= 4\n",
        "bilangan2=2.5\n",
        "bilangan3= True\n",
        "bilangan4=1j+4\n"
      ],
      "metadata": {
        "id": "W-I3LXkXd3lf"
      },
      "execution_count": 15,
      "outputs": []
    },
    {
      "cell_type": "code",
      "source": [
        "#Latihan\n",
        "nama = 'Hilmi'\n",
        "bulat = 6\n",
        "desimal = 3.5\n",
        "bil = False\n",
        "angan = 3j+5\n",
        "\n",
        "print(nama)\n",
        "print(bulat)\n",
        "print(desimal)\n",
        "print(bil)\n",
        "print(angan)"
      ],
      "metadata": {
        "colab": {
          "base_uri": "https://localhost:8080/"
        },
        "id": "oDC_qkQ5eTEd",
        "outputId": "162d4467-63bf-4a2e-d284-9d6f69d1e5e4"
      },
      "execution_count": 17,
      "outputs": [
        {
          "output_type": "stream",
          "name": "stdout",
          "text": [
            "Hilmi\n",
            "6\n",
            "3.5\n",
            "False\n",
            "(5+3j)\n"
          ]
        }
      ]
    },
    {
      "cell_type": "markdown",
      "source": [
        "# Tipe Data dan Konversi Tipe Data"
      ],
      "metadata": {
        "id": "zkQqshzietZ7"
      }
    },
    {
      "cell_type": "markdown",
      "source": [
        "## Tipe Data\n",
        "\n",
        "Ada 5 tipe data yaitu ;\n",
        "\n",
        "1. Integer atau bilangan bulat ; int()\n",
        "\n",
        "2. Float atau bilangan desimal\n",
        "\n",
        "3. boolean atau terdiri dari True dan False\n",
        "\n",
        "4. String atau kalimat\n",
        "\n",
        "5. Complex yang merupakan bilangan kompleks\n"
      ],
      "metadata": {
        "id": "mFQzheu2eyIH"
      }
    },
    {
      "cell_type": "code",
      "source": [
        "#Menampilkan tipe data\n",
        "print(type(Kalimat))\n",
        "print(type(bilang1))\n",
        "print(type(bilangan2))\n",
        "print(type(bilangan3))\n",
        "print(type(bilangan4))"
      ],
      "metadata": {
        "colab": {
          "base_uri": "https://localhost:8080/"
        },
        "id": "dBg9sctGfXow",
        "outputId": "8d1ac935-9048-44f7-9fa4-87afc577d370"
      },
      "execution_count": 18,
      "outputs": [
        {
          "output_type": "stream",
          "name": "stdout",
          "text": [
            "<class 'str'>\n",
            "<class 'int'>\n",
            "<class 'float'>\n",
            "<class 'bool'>\n",
            "<class 'complex'>\n"
          ]
        }
      ]
    },
    {
      "cell_type": "code",
      "source": [
        "#Latihan\n",
        "print(type(bulat))\n",
        "print(type(bil))\n",
        "print(type(angan))\n",
        "print(type(desimal))\n",
        "print(type(nama))"
      ],
      "metadata": {
        "colab": {
          "base_uri": "https://localhost:8080/"
        },
        "id": "kt0b-uAkfyAI",
        "outputId": "92880647-4811-47fc-b40f-783a19b446c9"
      },
      "execution_count": 19,
      "outputs": [
        {
          "output_type": "stream",
          "name": "stdout",
          "text": [
            "<class 'int'>\n",
            "<class 'bool'>\n",
            "<class 'complex'>\n",
            "<class 'float'>\n",
            "<class 'str'>\n"
          ]
        }
      ]
    },
    {
      "cell_type": "markdown",
      "source": [
        "## Konversi Tipe Data"
      ],
      "metadata": {
        "id": "DmDni3rdgCVe"
      }
    },
    {
      "cell_type": "code",
      "source": [
        "# Konversi Tipe Data integer\n",
        "\n",
        "print(int(bilangan3))\n",
        "print(int(bilangan2))\n",
        "\n",
        "#Konversi tipe data float\n",
        "print(float(bilang1))\n",
        "print(float(bilangan3))\n",
        "\n",
        "#Konversi tipe data string\n",
        "print(str(bilang1))\n",
        "print(str(bilangan2))\n",
        "\n",
        "#Konversi tipe data boolean\n",
        "print(bool(bilang1))\n",
        "print(bool(bilangan2))\n",
        "\n",
        "#Konversi tipe data complex\n",
        "print(complex(bilang1))\n",
        "print(complex(bilangan2))\n",
        "print(complex(bilangan3))"
      ],
      "metadata": {
        "colab": {
          "base_uri": "https://localhost:8080/"
        },
        "id": "Bq1jeFVygGbP",
        "outputId": "87a7f386-e69e-41f0-97a8-1daec5e19c7f"
      },
      "execution_count": 23,
      "outputs": [
        {
          "output_type": "stream",
          "name": "stdout",
          "text": [
            "1\n",
            "2\n",
            "4.0\n",
            "1.0\n",
            "4\n",
            "2.5\n",
            "True\n",
            "True\n",
            "(4+0j)\n",
            "(2.5+0j)\n",
            "(1+0j)\n"
          ]
        }
      ]
    },
    {
      "cell_type": "code",
      "source": [
        "#Latihan\n",
        "print(int(desimal))\n",
        "print(str(bil))\n",
        "print(float(bulat))\n",
        "print(bool(nama))\n",
        "print(complex(bulat))"
      ],
      "metadata": {
        "colab": {
          "base_uri": "https://localhost:8080/"
        },
        "id": "iFxXS3Pxgpeb",
        "outputId": "c2c3ace4-a496-495d-9753-271a330c2b4d"
      },
      "execution_count": 24,
      "outputs": [
        {
          "output_type": "stream",
          "name": "stdout",
          "text": [
            "3\n",
            "False\n",
            "6.0\n",
            "True\n",
            "(6+0j)\n"
          ]
        }
      ]
    },
    {
      "cell_type": "code",
      "source": [
        "x = 5\n",
        "y = 2\n"
      ],
      "metadata": {
        "id": "08VYyWLiFC_d"
      },
      "execution_count": null,
      "outputs": []
    },
    {
      "cell_type": "code",
      "source": [
        "print(str(x))\n",
        "print(str(y))"
      ],
      "metadata": {
        "colab": {
          "base_uri": "https://localhost:8080/"
        },
        "id": "LiciM-6kFLK8",
        "outputId": "313ad552-7fae-4bd1-a3a9-13553958bab9"
      },
      "execution_count": null,
      "outputs": [
        {
          "output_type": "stream",
          "name": "stdout",
          "text": [
            "5\n",
            "2\n"
          ]
        }
      ]
    },
    {
      "cell_type": "code",
      "source": [
        "print(str(x)+str(y))"
      ],
      "metadata": {
        "colab": {
          "base_uri": "https://localhost:8080/"
        },
        "id": "iTQJkouVFVfB",
        "outputId": "16aafee6-2fc3-436f-ddd8-a251cc7ec934"
      },
      "execution_count": null,
      "outputs": [
        {
          "output_type": "stream",
          "name": "stdout",
          "text": [
            "52\n"
          ]
        }
      ]
    }
  ]
}