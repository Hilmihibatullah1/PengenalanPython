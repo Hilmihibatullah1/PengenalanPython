{
  "nbformat": 4,
  "nbformat_minor": 0,
  "metadata": {
    "colab": {
      "provenance": [],
      "authorship_tag": "ABX9TyMTdViziButVI9IrnhLDDTt",
      "include_colab_link": true
    },
    "kernelspec": {
      "name": "python3",
      "display_name": "Python 3"
    },
    "language_info": {
      "name": "python"
    }
  },
  "cells": [
    {
      "cell_type": "markdown",
      "metadata": {
        "id": "view-in-github",
        "colab_type": "text"
      },
      "source": [
        "<a href=\"https://colab.research.google.com/github/Hilmihibatullah1/PengenalanPython/blob/main/Pengenalan_Python.ipynb\" target=\"_parent\"><img src=\"https://colab.research.google.com/assets/colab-badge.svg\" alt=\"Open In Colab\"/></a>"
      ]
    },
    {
      "cell_type": "markdown",
      "source": [
        "# PENGENALAN PYTHON\n"
      ],
      "metadata": {
        "id": "q7WamWTWyBmi"
      }
    },
    {
      "cell_type": "markdown",
      "source": [
        "Phyton adalah Bahasa pemrograman tingkat tinggi dengan dynamic semantics, bersifat object\n",
        "oriented, dan interpretatif. Bahasa pemrograman ini fokus dikembangkan pada keterbacaan\n",
        "bahasa pemrograman."
      ],
      "metadata": {
        "id": "HzlBZ6jgyHKy"
      }
    },
    {
      "cell_type": "markdown",
      "source": [
        "1. **Bahasa Pemrograman Tingkat Tinggi (High Level Programming)** Artinya sintaks kode lebih mudah ditafsirkan oleh manusia.\n",
        "\n",
        "2. **Interpretatif** Ini artinya bahasa ini memerlukan intrepeter atau penerjemah. Ini memungkinkan kita untuk menggunakan Bahasa yang lebih mudah kita pahami.\n",
        "\n",
        "3. **Object Oriented** Ini berarti bahwa bahasa pemrograman ini berorientasi kepada objek. Hal ini membuat Phyton lebih mudah untuk dikembangkan.\n",
        "\n",
        "4. **Dynamic Semantic** Phyton secara otomatis akan menyesuaikan tipe dari suatu variable berdasarkan inputnya."
      ],
      "metadata": {
        "id": "ph4CC_D0yh3o"
      }
    },
    {
      "cell_type": "markdown",
      "source": [
        "## Mengapa Python?"
      ],
      "metadata": {
        "id": "7DK0UNR_yjeI"
      }
    },
    {
      "cell_type": "markdown",
      "source": [
        "1. Mudah dipahami\n",
        "2. Grafis & Open Source\n",
        "3. Dinamis\n",
        "4. Memiliki Library Terlengkap untuk Data Sains"
      ],
      "metadata": {
        "id": "ssJJi3JPypGI"
      }
    },
    {
      "cell_type": "markdown",
      "source": [
        "# Struktur Program pada Python"
      ],
      "metadata": {
        "id": "YdtehTpoyw9O"
      }
    },
    {
      "cell_type": "markdown",
      "source": [
        "Python pada umumnya terdiri dari :\n",
        "\n",
        "1. **Statement**"
      ],
      "metadata": {
        "id": "EMtOQEee19R0"
      }
    },
    {
      "cell_type": "code",
      "source": [
        "print(\"Belajar Python Menyenangkan\")\n",
        "print(\"Hallo Dunia\")"
      ],
      "metadata": {
        "colab": {
          "base_uri": "https://localhost:8080/"
        },
        "id": "CdwdOe0J2Ihm",
        "outputId": "184cc9d5-7664-40ae-93b4-e722d65704a1"
      },
      "execution_count": null,
      "outputs": [
        {
          "output_type": "stream",
          "name": "stdout",
          "text": [
            "Belajar Python Menyenangkan\n",
            "Hallo Dunia\n"
          ]
        }
      ]
    },
    {
      "cell_type": "markdown",
      "source": [
        "2. **Variables**"
      ],
      "metadata": {
        "id": "GONv_SOn2hpP"
      }
    },
    {
      "cell_type": "code",
      "source": [
        "bilangan1 = 5\n",
        "bilangan2 = 10\n",
        "kalimat = \"pejuang data 3\""
      ],
      "metadata": {
        "id": "wKuqxMXs2mvE"
      },
      "execution_count": null,
      "outputs": []
    },
    {
      "cell_type": "markdown",
      "source": [
        "3. **Literals** : Simbol-simbol yang dapat kita gunakan untuk mengisi suatu variable.\n",
        "\n",
        "4. **Operators** : Simbol-simbol yang dapat digunakan untuk mengubah nilai dari satu variable\n",
        "dengan melibatkan satu atau lebih variable dan literal"
      ],
      "metadata": {
        "id": "iqiVyjR0y6Zx"
      }
    },
    {
      "cell_type": "code",
      "source": [
        "bilangan1 + bilangan2"
      ],
      "metadata": {
        "colab": {
          "base_uri": "https://localhost:8080/"
        },
        "id": "kSoZEKXN3Btp",
        "outputId": "96ef7452-81be-4b48-aa4d-3e746d41dc67"
      },
      "execution_count": null,
      "outputs": [
        {
          "output_type": "execute_result",
          "data": {
            "text/plain": [
              "15"
            ]
          },
          "metadata": {},
          "execution_count": 8
        }
      ]
    },
    {
      "cell_type": "markdown",
      "source": [
        "5. **Reserved Words** : Kumpulan kata-kata yang memiliki makna khusus dalam bahasa\n",
        "pemrograman Phyton. Kata false , return , dan for merupakan contoh dari reserved words.\n",
        "\n",
        "6. **Whitespace**: Pada bahasa Phyton, spasi dan tab memiliki makna khusus untuk menandai serangkaian blok dalam kode Phyton.\n",
        "\n",
        "7. **Comments** : Comments merupakan sekumpulan teks yang dituliskan di dalam sebuah program yang tidak akan mempengaruhi hasil dari sebuah pemrograman.\n",
        "Terdapat dua jenis comments di dalam Phyton, yaitu :\n",
        "\n",
        "a. **single line comment** (comments dalam satu baris) seperti contoh berikut :"
      ],
      "metadata": {
        "id": "ePbUU9ks3K8a"
      }
    },
    {
      "cell_type": "code",
      "source": [
        "# Ini adalah Comment\n",
        "print(\"belajar python\")"
      ],
      "metadata": {
        "colab": {
          "base_uri": "https://localhost:8080/"
        },
        "id": "MO52xNoS0y6P",
        "outputId": "e538efcd-2b60-42b9-d8a7-11a0388cbefc"
      },
      "execution_count": null,
      "outputs": [
        {
          "output_type": "stream",
          "name": "stdout",
          "text": [
            "belajar python\n"
          ]
        }
      ]
    },
    {
      "cell_type": "markdown",
      "source": [
        "b. **multi line comment** (comments dalam beberapa baris) yang dapat dilakukan\n",
        "seperti pada contoh berikut :\n"
      ],
      "metadata": {
        "id": "_PrH45eG1IJ_"
      }
    },
    {
      "cell_type": "code",
      "source": [
        "'''\n",
        "Ini adalah komentar panjang\n",
        "Bisa digunakan untuk memberikan penjelasan\n",
        "panjang pada Sell Kode Phyton,\n",
        "Misal dokumentasi program, spesifikasi\n",
        "input output atau lainnya\n",
        "'''\n",
        "print('Belajar Phyton menyenangkan')\n"
      ],
      "metadata": {
        "colab": {
          "base_uri": "https://localhost:8080/"
        },
        "id": "yGDL_Opj1JWu",
        "outputId": "4b77c43c-fbf7-4838-bcd8-72559d4a7605"
      },
      "execution_count": null,
      "outputs": [
        {
          "output_type": "stream",
          "name": "stdout",
          "text": [
            "Belajar Phyton menyenangkan\n"
          ]
        }
      ]
    }
  ]
}