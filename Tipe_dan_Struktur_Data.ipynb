{
  "nbformat": 4,
  "nbformat_minor": 0,
  "metadata": {
    "colab": {
      "provenance": [],
      "toc_visible": true,
      "authorship_tag": "ABX9TyObWix+6GyQzGpWrYzKoXR8",
      "include_colab_link": true
    },
    "kernelspec": {
      "name": "python3",
      "display_name": "Python 3"
    },
    "language_info": {
      "name": "python"
    }
  },
  "cells": [
    {
      "cell_type": "markdown",
      "metadata": {
        "id": "view-in-github",
        "colab_type": "text"
      },
      "source": [
        "<a href=\"https://colab.research.google.com/github/Hilmihibatullah1/PengenalanPython/blob/main/Tipe_dan_Struktur_Data.ipynb\" target=\"_parent\"><img src=\"https://colab.research.google.com/assets/colab-badge.svg\" alt=\"Open In Colab\"/></a>"
      ]
    },
    {
      "cell_type": "markdown",
      "source": [
        "#INPUT DAN OUTPUT PADA PHYTON\n"
      ],
      "metadata": {
        "id": "UD8I5Hw7R3A6"
      }
    },
    {
      "cell_type": "markdown",
      "source": [
        "Kita akan memulai dengan mencoba mengenal dan memahami proses input dan output pada bahasa pemrograman python. Sebuah Program terdiri dari Input, Proses dan Output\n",
        "\n",
        "**Membuat input dengan fungsi input()**\n",
        "\n",
        "format input() : input(*object, nilai)\n",
        "\n",
        "Sebuah input dapat dikelola berdasarkan tipe datanya :\n",
        "\n",
        "input() : nilai berupa string\n",
        "\n",
        "str(input()) : nilai berupa string\n",
        "\n",
        "int(input()) : nilai berupa integer\n",
        "\n",
        "float(input()) : nilai berupa float\n",
        "\n",
        "bool(input()) : nilai berupa boolean\n",
        "\n",
        "**Untuk menampilkan Output dengan fungsi print()**\n",
        "\n",
        "format print() : print(*object, sep=' ', end='\\n', file=sys.stdout, flush=False/True)"
      ],
      "metadata": {
        "id": "Oo5nh-9x-UM-"
      }
    },
    {
      "cell_type": "markdown",
      "source": [
        "##Menampilkan input\n"
      ],
      "metadata": {
        "id": "JcPbUuHPUX59"
      }
    },
    {
      "cell_type": "code",
      "source": [
        "#Input data string (str)\n",
        "nama = input(\"Nama :\")\n",
        "umur= input(\"Umur :\")\n",
        "alamat = input(\"Alamat :\")"
      ],
      "metadata": {
        "colab": {
          "base_uri": "https://localhost:8080/"
        },
        "id": "B9fHvgSMSFLy",
        "outputId": "f633f731-1369-410f-a231-8b1047eb8b6b"
      },
      "execution_count": null,
      "outputs": [
        {
          "name": "stdout",
          "output_type": "stream",
          "text": [
            "Nama :Hilmi\n",
            "Umur :20\n",
            "Alamat :Kuningan\n"
          ]
        }
      ]
    },
    {
      "cell_type": "code",
      "source": [
        "print(nama)\n",
        "print(umur)\n",
        "type(nama)\n",
        "type(umur)"
      ],
      "metadata": {
        "colab": {
          "base_uri": "https://localhost:8080/"
        },
        "id": "MA3nyV6USgaU",
        "outputId": "b7e44772-4c25-424c-d38c-a8a601af7b88"
      },
      "execution_count": null,
      "outputs": [
        {
          "output_type": "stream",
          "name": "stdout",
          "text": [
            "Hilmi\n",
            "20\n"
          ]
        },
        {
          "output_type": "execute_result",
          "data": {
            "text/plain": [
              "str"
            ]
          },
          "metadata": {},
          "execution_count": 2
        }
      ]
    },
    {
      "cell_type": "code",
      "source": [
        "#Membuat input bertipe data integer (int)\n",
        "angka= int(input())\n",
        "aku = float(input())\n",
        "print(aku)\n",
        "print(angka)"
      ],
      "metadata": {
        "colab": {
          "base_uri": "https://localhost:8080/"
        },
        "id": "AN6iHhogTBbG",
        "outputId": "40df8256-0bad-413b-8864-8b1de9ef924e"
      },
      "execution_count": null,
      "outputs": [
        {
          "output_type": "stream",
          "name": "stdout",
          "text": [
            "12\n",
            "12\n",
            "12.0\n",
            "12\n"
          ]
        }
      ]
    },
    {
      "cell_type": "code",
      "source": [
        "#Membuat input bertipe data float\n",
        "angka= float(input())\n",
        "print(angka)"
      ],
      "metadata": {
        "colab": {
          "base_uri": "https://localhost:8080/"
        },
        "id": "-0nyRh3yTTvc",
        "outputId": "39061ba8-76b7-4b1e-edc1-a733100e9243"
      },
      "execution_count": null,
      "outputs": [
        {
          "output_type": "stream",
          "name": "stdout",
          "text": [
            "21\n",
            "21.0\n"
          ]
        }
      ]
    },
    {
      "cell_type": "markdown",
      "source": [
        "##Menampilkan Output cara pertama"
      ],
      "metadata": {
        "id": "ZCpCslMLUJvm"
      }
    },
    {
      "cell_type": "code",
      "source": [
        "print(\"Nama saya \" + nama + \"yang berumur \" + umur + \"dan bertempat tinggal di \" +alamat)"
      ],
      "metadata": {
        "colab": {
          "base_uri": "https://localhost:8080/"
        },
        "id": "PTTECjyxT4MS",
        "outputId": "dda4d4cc-e113-41b8-97fa-a42aae02face"
      },
      "execution_count": null,
      "outputs": [
        {
          "output_type": "stream",
          "name": "stdout",
          "text": [
            "Nama saya Hilmiyang berumur 20dan bertempat tinggal di Kuningan\n"
          ]
        }
      ]
    },
    {
      "cell_type": "code",
      "source": [
        "kampus = input(\"universitas \")\n",
        "print(kampus)"
      ],
      "metadata": {
        "colab": {
          "base_uri": "https://localhost:8080/"
        },
        "id": "fI66mPriVL_K",
        "outputId": "46ad101f-4386-4e76-900e-5b82fa7b7484"
      },
      "execution_count": null,
      "outputs": [
        {
          "output_type": "stream",
          "name": "stdout",
          "text": [
            "universitas Ahmad Dahlan\n",
            "Ahmad Dahlan\n"
          ]
        }
      ]
    },
    {
      "cell_type": "code",
      "source": [
        "print(' nama saya '+\" \"+ nama +\" \" + 'universitas ' +\" \"+ kampus  + 'kota '+\" \"  + alamat)"
      ],
      "metadata": {
        "colab": {
          "base_uri": "https://localhost:8080/"
        },
        "id": "a0MYxkdgVhJg",
        "outputId": "48ed5bd9-8ec7-4a42-dd5c-2cff472c4e86"
      },
      "execution_count": null,
      "outputs": [
        {
          "output_type": "stream",
          "name": "stdout",
          "text": [
            " nama saya  Hilmi universitas  Ahmad Dahlankota  Kuningan\n"
          ]
        }
      ]
    },
    {
      "cell_type": "markdown",
      "source": [
        "##Menampilkan Output cara kedua\n",
        "Menggunakan fungsi format()"
      ],
      "metadata": {
        "id": "h_6ztqpJWnY7"
      }
    },
    {
      "cell_type": "code",
      "source": [
        "txt1 = \"Nama saya {nama}, Saya berumur {umur}\".format(nama = \"Hilmi\", umur = 20)\n",
        "txt1"
      ],
      "metadata": {
        "colab": {
          "base_uri": "https://localhost:8080/",
          "height": 36
        },
        "id": "8CwsSO42WrsH",
        "outputId": "926b8e7c-8d94-4bed-d0c6-1ca411957fd6"
      },
      "execution_count": null,
      "outputs": [
        {
          "output_type": "execute_result",
          "data": {
            "text/plain": [
              "'Nama saya Hilmi, Saya berumur 20'"
            ],
            "application/vnd.google.colaboratory.intrinsic+json": {
              "type": "string"
            }
          },
          "metadata": {},
          "execution_count": 16
        }
      ]
    },
    {
      "cell_type": "code",
      "source": [
        "txt2 = \"Nama saya {0}, saya berumur {1}, tinggal di {2}\".format(\"Hilmi\",20,\"London\")\n",
        "txt2"
      ],
      "metadata": {
        "colab": {
          "base_uri": "https://localhost:8080/",
          "height": 36
        },
        "id": "ckzj9XB-XBGp",
        "outputId": "f76c416f-ff55-42f5-ac1f-15fe5f8c0481"
      },
      "execution_count": null,
      "outputs": [
        {
          "output_type": "execute_result",
          "data": {
            "text/plain": [
              "'Nama saya Hilmi, saya berumur 20, tinggal di London'"
            ],
            "application/vnd.google.colaboratory.intrinsic+json": {
              "type": "string"
            }
          },
          "metadata": {},
          "execution_count": 18
        }
      ]
    },
    {
      "cell_type": "code",
      "source": [
        "txt3 = \"Nama saya{0}, saya berumur {1}\".format(\"Hilmi\",20)\n",
        "txt3"
      ],
      "metadata": {
        "colab": {
          "base_uri": "https://localhost:8080/",
          "height": 36
        },
        "id": "vCmehcLrYWcQ",
        "outputId": "f4865ee0-bb04-4dc8-e7ff-dc8cf6b8d264"
      },
      "execution_count": null,
      "outputs": [
        {
          "output_type": "execute_result",
          "data": {
            "text/plain": [
              "'Nama sayaHilmi, saya berumur 20'"
            ],
            "application/vnd.google.colaboratory.intrinsic+json": {
              "type": "string"
            }
          },
          "metadata": {},
          "execution_count": 19
        }
      ]
    },
    {
      "cell_type": "markdown",
      "source": [
        "##Menampilkan Output cara ketiga\n",
        "menggunakan simbol %\n",
        "\n",
        "\n",
        "*   %c :mencetak karakter\n",
        "*   %s :mencetak data menjadi string\n",
        "\n",
        "*   %i, %d :mencetak angka desimal bertanda\n",
        "*   %u :mencetak angka desimal tak bertanda\n",
        "\n",
        "*   %x, %X :mencetak angka heksa dengan huruf kecil %x atau huruf besar %X\n",
        "*   %f :mencetak angka real berkoma\n",
        "* %e, %E :mencetak tanda eksponensial dengan huruf kecil %e atau besar %E\n",
        "* %g, %G :fungsi hampir sama dengan %f dan %e hanya saja pencetakan angka dibelakang koma lebih pendek\n",
        "\n",
        "\n",
        "\n",
        "\n",
        "\n",
        "\n",
        "\n",
        "\n",
        "\n",
        "\n"
      ],
      "metadata": {
        "id": "Fet8kelUYtII"
      }
    },
    {
      "cell_type": "code",
      "source": [
        "print(\"Nama saya %s yang berumur %s dan bertempat tinggal di %s\" %(nama, umur, alamat))"
      ],
      "metadata": {
        "colab": {
          "base_uri": "https://localhost:8080/"
        },
        "id": "0C3pZcWsYrgl",
        "outputId": "7dac58f5-e3aa-47e2-b100-73b31ab0d3af"
      },
      "execution_count": null,
      "outputs": [
        {
          "output_type": "stream",
          "name": "stdout",
          "text": [
            "Nama saya Hilmi yang berumur 20 dan bertempat tinggal di Kuningan\n"
          ]
        }
      ]
    },
    {
      "cell_type": "markdown",
      "source": [
        "#Variabel, Tipe data dan Konversinya"
      ],
      "metadata": {
        "id": "2lrhC473a_Qp"
      }
    },
    {
      "cell_type": "markdown",
      "source": [
        "Selanjutnya kita akan mengenal variabel dan tipe data pada python. Ini merupakan dasar yang harus dipahami di awal sebelum melanjutkan ke materi berikutnya. Pertama kita akan memahami bagaimana sebuah variabel dituliskan dalam python."
      ],
      "metadata": {
        "id": "Ertb9Ghv-29J"
      }
    },
    {
      "cell_type": "markdown",
      "source": [
        "##Variabel\n",
        "\n",
        "* Variabel merupakan tempat penyimpanan data atau nilai\n",
        "* Sebuah variabel dalam python bisa diisi dengan berbagai tipe data\n",
        "* Nama sebuah variabel tidak bisa diawali dengan angka/numerik\n",
        "* Nama sebuah variabel selain keyword dari bahasa python\n",
        "* Format variabel : Nama_variabel = data/nilai\n",
        "\n",
        "**Membuat sebuah variabel dengan berbagai tipe data phyton**\n"
      ],
      "metadata": {
        "id": "E_nHlqZgbJOV"
      }
    },
    {
      "cell_type": "code",
      "source": [
        "var1 = 'Hilmi ada disini' #string\n",
        "var2 = 2112222111 #int\n",
        "var3 = 0.2112222111 #float\n",
        "var4 = True #bool\n",
        "var5 = 1j+2 #complex\n",
        "print(var1)\n",
        "print(var2)\n",
        "print(var3)\n",
        "print(var4)\n",
        "print(var5)"
      ],
      "metadata": {
        "colab": {
          "base_uri": "https://localhost:8080/"
        },
        "id": "9-E_I3-Gazeh",
        "outputId": "ea996e4b-0861-4b8d-9bf3-1805edd0b2a9"
      },
      "execution_count": null,
      "outputs": [
        {
          "output_type": "stream",
          "name": "stdout",
          "text": [
            "Hilmi ada disini\n",
            "2112222111\n",
            "0.2112222111\n",
            "True\n",
            "(2+1j)\n"
          ]
        }
      ]
    },
    {
      "cell_type": "markdown",
      "source": [
        "**Memanggil variabel dan menampilkan**"
      ],
      "metadata": {
        "id": "vkQuaBl4ck97"
      }
    },
    {
      "cell_type": "code",
      "source": [
        "var1"
      ],
      "metadata": {
        "colab": {
          "base_uri": "https://localhost:8080/",
          "height": 36
        },
        "id": "_pwEbjZLczlJ",
        "outputId": "6fdddb8e-639b-45fb-8209-804e6a67d374"
      },
      "execution_count": null,
      "outputs": [
        {
          "output_type": "execute_result",
          "data": {
            "text/plain": [
              "'Hilmi ada disini'"
            ],
            "application/vnd.google.colaboratory.intrinsic+json": {
              "type": "string"
            }
          },
          "metadata": {},
          "execution_count": 31
        }
      ]
    },
    {
      "cell_type": "code",
      "source": [
        "var2\n",
        "var4"
      ],
      "metadata": {
        "colab": {
          "base_uri": "https://localhost:8080/"
        },
        "id": "l8x4z3YldNlY",
        "outputId": "90aec40d-7f81-4738-bb84-4f937926ffb9"
      },
      "execution_count": null,
      "outputs": [
        {
          "output_type": "execute_result",
          "data": {
            "text/plain": [
              "True"
            ]
          },
          "metadata": {},
          "execution_count": 32
        }
      ]
    },
    {
      "cell_type": "code",
      "source": [
        "var6 = ' Hilmi Hibatullah'\n",
        "var6"
      ],
      "metadata": {
        "colab": {
          "base_uri": "https://localhost:8080/",
          "height": 36
        },
        "id": "GVm5YKuAdP1t",
        "outputId": "17d93599-2370-4b8a-b174-5d61ee4b02ed"
      },
      "execution_count": null,
      "outputs": [
        {
          "output_type": "execute_result",
          "data": {
            "text/plain": [
              "' Hilmi Hibatullah'"
            ],
            "application/vnd.google.colaboratory.intrinsic+json": {
              "type": "string"
            }
          },
          "metadata": {},
          "execution_count": 33
        }
      ]
    },
    {
      "cell_type": "markdown",
      "source": [
        "##Tipe Data\n",
        "\n",
        "Tipe data adalah kumpulan tipe yang dapat kamu temukan di semua data. Dengan memahami tipe data, kamu dapat menentukan nilai data yang dimiliki dari data tersebut."
      ],
      "metadata": {
        "id": "joo4WEF1dpW2"
      }
    },
    {
      "cell_type": "markdown",
      "source": [
        "Mengenal Beberapa Tipe Data Pada Python:\n",
        "\n",
        "**String**\n",
        "\n",
        "**Number** (Integer, Float, Complex, Boolean)"
      ],
      "metadata": {
        "id": "5eZM70Wm_nGM"
      }
    },
    {
      "cell_type": "markdown",
      "source": [
        "**Melihat Tipe Data dari Suatu Variabel**\n",
        "\n",
        "Kamu bisa melihat tipe variabel yang sudah kamu buat,apakah tipe data kamu adalah int, float, boolean, string, dll menggunakan fungsi **type(variabel)**, sebagai berikut:"
      ],
      "metadata": {
        "id": "7RUgmE4l_u4b"
      }
    },
    {
      "cell_type": "code",
      "source": [
        "type(var1)"
      ],
      "metadata": {
        "colab": {
          "base_uri": "https://localhost:8080/"
        },
        "id": "VOggyCFKdjYm",
        "outputId": "80791e80-187b-42d1-c47c-4d59b8b69788"
      },
      "execution_count": null,
      "outputs": [
        {
          "output_type": "execute_result",
          "data": {
            "text/plain": [
              "str"
            ]
          },
          "metadata": {},
          "execution_count": 36
        }
      ]
    },
    {
      "cell_type": "code",
      "source": [
        "type(var2)"
      ],
      "metadata": {
        "colab": {
          "base_uri": "https://localhost:8080/"
        },
        "id": "ENjGKklKd5Al",
        "outputId": "10a3410a-0ccf-4f63-c442-41ff3b916e75"
      },
      "execution_count": null,
      "outputs": [
        {
          "output_type": "execute_result",
          "data": {
            "text/plain": [
              "int"
            ]
          },
          "metadata": {},
          "execution_count": 37
        }
      ]
    },
    {
      "cell_type": "code",
      "source": [
        "type(var3)"
      ],
      "metadata": {
        "colab": {
          "base_uri": "https://localhost:8080/"
        },
        "id": "lHZcT0ZUeBiJ",
        "outputId": "6d6fcaa4-9c50-4ea6-84ab-569d4ee4af30"
      },
      "execution_count": null,
      "outputs": [
        {
          "output_type": "execute_result",
          "data": {
            "text/plain": [
              "float"
            ]
          },
          "metadata": {},
          "execution_count": 38
        }
      ]
    },
    {
      "cell_type": "code",
      "source": [
        "type(var4)"
      ],
      "metadata": {
        "colab": {
          "base_uri": "https://localhost:8080/"
        },
        "id": "zP43J1ZXeE6s",
        "outputId": "0db6f2c5-ee33-4f29-fca3-f19f750fa067"
      },
      "execution_count": null,
      "outputs": [
        {
          "output_type": "execute_result",
          "data": {
            "text/plain": [
              "bool"
            ]
          },
          "metadata": {},
          "execution_count": 39
        }
      ]
    },
    {
      "cell_type": "code",
      "source": [
        "type(var5)"
      ],
      "metadata": {
        "colab": {
          "base_uri": "https://localhost:8080/"
        },
        "id": "-KzKCywGeHwC",
        "outputId": "99b0cc5d-96fe-46ff-e678-710d7da7beb9"
      },
      "execution_count": null,
      "outputs": [
        {
          "output_type": "execute_result",
          "data": {
            "text/plain": [
              "complex"
            ]
          },
          "metadata": {},
          "execution_count": 40
        }
      ]
    },
    {
      "cell_type": "code",
      "source": [
        "type(var6)"
      ],
      "metadata": {
        "colab": {
          "base_uri": "https://localhost:8080/"
        },
        "id": "vYTuXp0seLGp",
        "outputId": "7dd6062d-d325-4d4f-d370-446e2211e9ff"
      },
      "execution_count": null,
      "outputs": [
        {
          "output_type": "execute_result",
          "data": {
            "text/plain": [
              "str"
            ]
          },
          "metadata": {},
          "execution_count": 41
        }
      ]
    },
    {
      "cell_type": "code",
      "source": [
        "type(12.3424)"
      ],
      "metadata": {
        "colab": {
          "base_uri": "https://localhost:8080/"
        },
        "id": "ZOLN8_wVeNMZ",
        "outputId": "9be6ce9e-d83c-4188-d5a3-41562c3199a5"
      },
      "execution_count": null,
      "outputs": [
        {
          "output_type": "execute_result",
          "data": {
            "text/plain": [
              "float"
            ]
          },
          "metadata": {},
          "execution_count": 44
        }
      ]
    },
    {
      "cell_type": "code",
      "source": [
        "print(var1,'Tipe data :', type(var1))\n",
        "print(var2,'Tipe data :', type(var2))\n",
        "print(var3,'Tipe data :', type(var3))\n",
        "print(var4,'Tipe data :', type(var4))\n",
        "print(var5,'Tipe data :', type(var5))"
      ],
      "metadata": {
        "colab": {
          "base_uri": "https://localhost:8080/"
        },
        "id": "JxKMQXnFeRiG",
        "outputId": "c7296abe-0585-4d88-8744-7e8ffe3de711"
      },
      "execution_count": null,
      "outputs": [
        {
          "output_type": "stream",
          "name": "stdout",
          "text": [
            "Hilmi ada disini Tipe data : <class 'str'>\n",
            "2112222111 Tipe data : <class 'int'>\n",
            "0.2112222111 Tipe data : <class 'float'>\n",
            "True Tipe data : <class 'bool'>\n",
            "(2+1j) Tipe data : <class 'complex'>\n"
          ]
        }
      ]
    },
    {
      "cell_type": "markdown",
      "source": [
        "##Konversi Tipe Data\n",
        "\n",
        "Fungsi untuk mengubah/konversi tipe data:\n",
        "\n",
        "a. int() : untuk mengubah menjadi integer\n",
        "\n",
        "b. float() : untuk mengubah menjadi float\n",
        "\n",
        "c. str() : untuk mengubah menjadi string\n",
        "\n",
        "d. bool() : untuk mengubah menjadi boolean\n",
        "\n",
        "e. long() : untuk mengubah menjadi integer panjang\n",
        "\n",
        "f. chr() : untuk mengubah menjadi karakter\n",
        "\n",
        "g. bin() : untuk mengubah menjadi bilangan biner\n",
        "\n",
        "h. hex() : untuk mengubah menjadi bilangan Heksadesimal\n",
        "\n",
        "i. oct() : untuk mengubah menjadi bilangan okta\n",
        "\n",
        "Contohnya :"
      ],
      "metadata": {
        "id": "54XNKs1AfRF7"
      }
    },
    {
      "cell_type": "code",
      "source": [
        "number = 12\n",
        "print(\"data =\",number,\", type =\",type(number))"
      ],
      "metadata": {
        "colab": {
          "base_uri": "https://localhost:8080/"
        },
        "id": "trAfkPEAfKjk",
        "outputId": "060f0c6e-bac1-4786-a042-b725bb06c719"
      },
      "execution_count": null,
      "outputs": [
        {
          "output_type": "stream",
          "name": "stdout",
          "text": [
            "data = 12 , type = <class 'int'>\n"
          ]
        }
      ]
    },
    {
      "cell_type": "code",
      "source": [
        "#Mengkonversi tipe data integer\n",
        "kon_float = float(number)\n",
        "kon_str = str(number)\n",
        "kon_bool = bool(number) #false jika integer=0, ainnya true\n"
      ],
      "metadata": {
        "id": "8oyeKxP7oC-Z"
      },
      "execution_count": null,
      "outputs": []
    },
    {
      "cell_type": "code",
      "source": [
        "#melihat data yang telah dikonversi\n",
        "print(\"data =\", kon_float , \",type =\", type(kon_float))\n",
        "print(\"data =\", kon_str , \",type =\", type(kon_str))\n",
        "print(\"data =\", kon_bool, \",type =\", type(kon_bool))"
      ],
      "metadata": {
        "colab": {
          "base_uri": "https://localhost:8080/"
        },
        "id": "uTN97SYyoMtZ",
        "outputId": "5a4580b7-5e3f-4b0c-fcb3-d3c54dba9cd1"
      },
      "execution_count": null,
      "outputs": [
        {
          "output_type": "stream",
          "name": "stdout",
          "text": [
            "data = 12.0 ,type = <class 'float'>\n",
            "data = 12 ,type = <class 'str'>\n",
            "data = True ,type = <class 'bool'>\n"
          ]
        }
      ]
    },
    {
      "cell_type": "markdown",
      "source": [
        "#Berbagai Struktur Data di Phyton"
      ],
      "metadata": {
        "id": "V4ha3yUbpdvl"
      }
    },
    {
      "cell_type": "markdown",
      "source": [
        "##List\n",
        "\n",
        "List adalah jenis kumpulan data terurut (ordered sequence), dan merupakan salah satu variabel yang sering digunakan pada Python. Serupa, namun tak sama dengan array pada bahasa pemrograman lainnya. Bedanya, elemen List pada Python tidak harus memiliki tipe data yang sama. Mendeklarasikan List cukup mudah dengan kurung siku dan elemen yang dipisahkan dengan koma."
      ],
      "metadata": {
        "id": "5Cj1UhhSpjJ1"
      }
    },
    {
      "cell_type": "markdown",
      "source": [
        "Setiap data di dalamnya dapat diakses dengan indeks yang dimulai dari 0."
      ],
      "metadata": {
        "id": "a78bCK8lAkRI"
      }
    },
    {
      "cell_type": "code",
      "source": [
        "x = ['Hilmi', 12, 1j, 0.13]"
      ],
      "metadata": {
        "id": "dtlchtD1o0Hz"
      },
      "execution_count": null,
      "outputs": []
    },
    {
      "cell_type": "code",
      "source": [
        "x"
      ],
      "metadata": {
        "colab": {
          "base_uri": "https://localhost:8080/"
        },
        "id": "ABloCFnRp6wo",
        "outputId": "6a10bbae-9955-48ac-eacc-e186ee1b4bc2"
      },
      "execution_count": null,
      "outputs": [
        {
          "output_type": "execute_result",
          "data": {
            "text/plain": [
              "['Hilmi', 12, 1j, 0.13]"
            ]
          },
          "metadata": {},
          "execution_count": 53
        }
      ]
    },
    {
      "cell_type": "markdown",
      "source": [
        "x[0] artinya mengambil elemen paling awal, dengan index 0 dari List x.\n",
        "\n",
        "x[5] artinya mengambil elemen dengan index 5 dari List x.\n",
        "\n",
        "x[-1] artinya mengambil elemen dengan index paling belakang ke-1 dari List x.\n",
        "\n",
        "x[3:5] artinya membuat list dari anggota elemen List x dengan index 3 hingga sebelum index 5 (tidak termasuk elemen dengan index 5, dalam hal ini hanya index 3-4).\n",
        "\n",
        "x[:5] artinya membuat list dari anggota elemen List x paling awal hingga sebelum index 5 (tidak termasuk elemen dengan index 5, dalam hal ini hanya index 0-4).\n",
        "\n",
        "x[-3:] artinya membuat list dari anggota elemen List x mulai index ke-3 dari belakang hingga paling belakang.\n",
        "\n",
        "x[1:7:2] artinya membuat list dari anggota elemen List x dengan index 1 hingga sebelum index 7, dengan \"step\" 2 (dalam hal ini hanya index 1, 3, 5)."
      ],
      "metadata": {
        "id": "GmXw3AkwBIOr"
      }
    },
    {
      "cell_type": "code",
      "source": [
        "a = [1,2,12,20,21,22]\n",
        "print(a[3])\n",
        "print(a[3:5])\n",
        "print(a[2:3:4])\n",
        "print(a[-2])\n",
        "print(a[:4])\n",
        "print(a[-2:])\n",
        "\n"
      ],
      "metadata": {
        "colab": {
          "base_uri": "https://localhost:8080/"
        },
        "id": "pt0LLDsgp7-k",
        "outputId": "becb62c8-a2ea-4a6f-f299-bea0aaab6e52"
      },
      "execution_count": null,
      "outputs": [
        {
          "output_type": "stream",
          "name": "stdout",
          "text": [
            "20\n",
            "[20, 21]\n",
            "[12]\n",
            "21\n",
            "[1, 2, 12, 20]\n",
            "[21, 22]\n"
          ]
        }
      ]
    },
    {
      "cell_type": "markdown",
      "source": [
        "Python mengenal slicing operator [ ] yang dapat melakukan ekstraksi sebuah item atau beberapa item yang berada dalam range tertentu pada tipe data urutan (sequences), misalnya list, string dan tuple. Beberapa tipe urutan juga mendukung \"extended slicing\" dengan parameter ketiga berupa \"step\"."
      ],
      "metadata": {
        "id": "YRXN2qRmA9sp"
      }
    },
    {
      "cell_type": "code",
      "source": [
        "#Mengganti elemen\n",
        "x =[2,3,4,5,6,7]\n",
        "x[3]=10\n",
        "print(x)"
      ],
      "metadata": {
        "colab": {
          "base_uri": "https://localhost:8080/"
        },
        "id": "Cp-13GIRrRMi",
        "outputId": "5d11549e-fbb3-4d98-ffd8-feda84da5285"
      },
      "execution_count": null,
      "outputs": [
        {
          "output_type": "stream",
          "name": "stdout",
          "text": [
            "[2, 3, 4, 10, 6, 7]\n"
          ]
        }
      ]
    },
    {
      "cell_type": "code",
      "source": [
        "#Menambah elemen\n",
        "y = [2,3,4]\n",
        "y[2]=5\n",
        "y.append(7) #append = menambah\n",
        "print(y)"
      ],
      "metadata": {
        "colab": {
          "base_uri": "https://localhost:8080/"
        },
        "id": "rI-uzQtlrn-k",
        "outputId": "38bbe311-e1fe-4a71-a0b5-6a777e5bfdf2"
      },
      "execution_count": null,
      "outputs": [
        {
          "output_type": "stream",
          "name": "stdout",
          "text": [
            "[2, 3, 5, 7]\n"
          ]
        }
      ]
    },
    {
      "cell_type": "code",
      "source": [
        "#Menghapus item\n",
        "y = [2,3,4,5]\n",
        "del y[0]\n",
        "print(y)"
      ],
      "metadata": {
        "colab": {
          "base_uri": "https://localhost:8080/"
        },
        "id": "_egbJzn4sKY6",
        "outputId": "3acbeee9-3f6e-4117-c579-8e0047efa95c"
      },
      "execution_count": null,
      "outputs": [
        {
          "output_type": "stream",
          "name": "stdout",
          "text": [
            "[3, 4, 5]\n"
          ]
        }
      ]
    },
    {
      "cell_type": "code",
      "source": [
        "binatang = ['ayam', 'bebek', 'burung']\n",
        "del binatang[0]\n",
        "print(binatang)\n"
      ],
      "metadata": {
        "colab": {
          "base_uri": "https://localhost:8080/"
        },
        "id": "bHxeAp_4sjFa",
        "outputId": "897ff0d7-f5b4-4fd4-f118-75498d8745b5"
      },
      "execution_count": null,
      "outputs": [
        {
          "output_type": "stream",
          "name": "stdout",
          "text": [
            "['bebek', 'burung']\n"
          ]
        }
      ]
    },
    {
      "cell_type": "code",
      "source": [
        "s = \"Selamat Sore!\"\n",
        "print(s[1]) #ambil karakter ke 2 dari string s\n",
        "print(s[0:8]) #ambil karakter pertama hingga 8 dari string s\n",
        "s = \"Sore\"\n",
        "print(s)"
      ],
      "metadata": {
        "colab": {
          "base_uri": "https://localhost:8080/"
        },
        "id": "dEMu015duNpa",
        "outputId": "550d6f7c-578d-487a-e85d-e18ae8e34063"
      },
      "execution_count": null,
      "outputs": [
        {
          "output_type": "stream",
          "name": "stdout",
          "text": [
            "e\n",
            "Selamat \n",
            "Sore\n"
          ]
        }
      ]
    },
    {
      "cell_type": "code",
      "source": [
        "s[2]=\"r\" #gagal karena immutable atau tidak dapat diubah, string utuh bersifat mutable, sedangkan elemennya bersifat immutable"
      ],
      "metadata": {
        "colab": {
          "base_uri": "https://localhost:8080/",
          "height": 166
        },
        "id": "l1X62FXevFDK",
        "outputId": "5a7b902b-c52c-415d-dab8-920146a48ca7"
      },
      "execution_count": null,
      "outputs": [
        {
          "output_type": "error",
          "ename": "TypeError",
          "evalue": "ignored",
          "traceback": [
            "\u001b[0;31m---------------------------------------------------------------------------\u001b[0m",
            "\u001b[0;31mTypeError\u001b[0m                                 Traceback (most recent call last)",
            "\u001b[0;32m<ipython-input-64-4e51aca80402>\u001b[0m in \u001b[0;36m<module>\u001b[0;34m()\u001b[0m\n\u001b[0;32m----> 1\u001b[0;31m \u001b[0ms\u001b[0m\u001b[0;34m[\u001b[0m\u001b[0;36m2\u001b[0m\u001b[0;34m]\u001b[0m\u001b[0;34m=\u001b[0m\u001b[0;34m\"r\"\u001b[0m\u001b[0;34m\u001b[0m\u001b[0;34m\u001b[0m\u001b[0m\n\u001b[0m",
            "\u001b[0;31mTypeError\u001b[0m: 'str' object does not support item assignment"
          ]
        }
      ]
    },
    {
      "cell_type": "markdown",
      "source": [
        "##Tuple\n",
        "\n",
        "Tuple adalah jenis dari list yang tidak dapat diubah elemennya. Umumnya tuple digunakan untuk data yang bersifat sekali tulis, dan dapat dieksekusi lebih cepat. Tuple didefinisikan dengan kurung dan elemen yang dipisahkan dengan koma."
      ],
      "metadata": {
        "id": "wseYuGY4wDqH"
      }
    },
    {
      "cell_type": "code",
      "source": [
        "t = (5,'program',1+5j)\n",
        "t"
      ],
      "metadata": {
        "colab": {
          "base_uri": "https://localhost:8080/"
        },
        "id": "fCArKliivXIR",
        "outputId": "2f99183b-b8eb-4e60-9975-57cb41ae6aac"
      },
      "execution_count": null,
      "outputs": [
        {
          "output_type": "execute_result",
          "data": {
            "text/plain": [
              "(5, 'program', (1+5j))"
            ]
          },
          "metadata": {},
          "execution_count": 65
        }
      ]
    },
    {
      "cell_type": "code",
      "source": [
        "print(t[0])"
      ],
      "metadata": {
        "colab": {
          "base_uri": "https://localhost:8080/"
        },
        "id": "UOdb7SQKwWu6",
        "outputId": "e14bad94-2417-430b-9b1d-cbae669b351d"
      },
      "execution_count": null,
      "outputs": [
        {
          "output_type": "stream",
          "name": "stdout",
          "text": [
            "5\n"
          ]
        }
      ]
    },
    {
      "cell_type": "code",
      "source": [
        "print(t[0:2])"
      ],
      "metadata": {
        "colab": {
          "base_uri": "https://localhost:8080/"
        },
        "id": "EdWHiOQAwcap",
        "outputId": "73216884-453c-46e6-8af7-30a2ab29cbe4"
      },
      "execution_count": null,
      "outputs": [
        {
          "output_type": "stream",
          "name": "stdout",
          "text": [
            "(5, 'program')\n"
          ]
        }
      ]
    },
    {
      "cell_type": "code",
      "source": [
        "print(t[1]='data') #eror, karena tuple bersifat immutable\n"
      ],
      "metadata": {
        "colab": {
          "base_uri": "https://localhost:8080/",
          "height": 131
        },
        "id": "nlhLWITRwgr7",
        "outputId": "f1e1dd70-cb4f-4c91-ba6d-6907d86e0d64"
      },
      "execution_count": null,
      "outputs": [
        {
          "output_type": "error",
          "ename": "SyntaxError",
          "evalue": "ignored",
          "traceback": [
            "\u001b[0;36m  File \u001b[0;32m\"<ipython-input-68-f65357574e03>\"\u001b[0;36m, line \u001b[0;32m1\u001b[0m\n\u001b[0;31m    print(t[1]='data') #eror, karena tuple bersifat immutable\u001b[0m\n\u001b[0m         ^\u001b[0m\n\u001b[0;31mSyntaxError\u001b[0m\u001b[0;31m:\u001b[0m keyword can't be an expression\n"
          ]
        }
      ]
    },
    {
      "cell_type": "code",
      "source": [
        "x = (9,8,7,6,'ada')\n",
        "print(x)\n",
        "print(x[4])\n"
      ],
      "metadata": {
        "colab": {
          "base_uri": "https://localhost:8080/"
        },
        "id": "XumIoaF5xiaJ",
        "outputId": "7c0b25a8-0ca1-440b-dc5a-83d417618b07"
      },
      "execution_count": null,
      "outputs": [
        {
          "output_type": "stream",
          "name": "stdout",
          "text": [
            "(9, 8, 7, 6, 'ada')\n",
            "ada\n"
          ]
        }
      ]
    },
    {
      "cell_type": "code",
      "source": [
        "del[]"
      ],
      "metadata": {
        "id": "x-R4OuPUx88w"
      },
      "execution_count": null,
      "outputs": []
    },
    {
      "cell_type": "markdown",
      "source": [
        "##Set\n",
        "\n",
        "Set adalah kumpulan item bersifat unik dan tanpa urutan (unordered collection). Didefinisikan dengan kurawal dan elemennya dipisahkan dengan koma. Pada Set kita dapat melakukan union dan intersection, sekaligus otomatis melakukan penghapusan data duplikat."
      ],
      "metadata": {
        "id": "dANuQXWJyQfy"
      }
    },
    {
      "cell_type": "code",
      "source": [
        "a = {1,1,2,2,3,2,5,6,9} #dalam set, elemen elemen duplikat diabaikan/dijadikan 1\n",
        "print(a)"
      ],
      "metadata": {
        "colab": {
          "base_uri": "https://localhost:8080/"
        },
        "id": "reMZB0E2yGPq",
        "outputId": "405a4068-9201-4c78-896d-e6dbb1342b1a"
      },
      "execution_count": null,
      "outputs": [
        {
          "output_type": "stream",
          "name": "stdout",
          "text": [
            "{1, 2, 3, 5, 6, 9}\n"
          ]
        }
      ]
    },
    {
      "cell_type": "code",
      "source": [
        "a = {1,2,3}\n",
        "print(a[2]) #tidak bisa mengambil sebagian data"
      ],
      "metadata": {
        "colab": {
          "base_uri": "https://localhost:8080/",
          "height": 182
        },
        "id": "v9iu5fvmyfAg",
        "outputId": "e0a356d8-5b70-4b95-b09a-3fba846579ef"
      },
      "execution_count": null,
      "outputs": [
        {
          "output_type": "error",
          "ename": "TypeError",
          "evalue": "ignored",
          "traceback": [
            "\u001b[0;31m---------------------------------------------------------------------------\u001b[0m",
            "\u001b[0;31mTypeError\u001b[0m                                 Traceback (most recent call last)",
            "\u001b[0;32m<ipython-input-76-aa8fc2e981ef>\u001b[0m in \u001b[0;36m<module>\u001b[0;34m()\u001b[0m\n\u001b[1;32m      1\u001b[0m \u001b[0ma\u001b[0m \u001b[0;34m=\u001b[0m \u001b[0;34m{\u001b[0m\u001b[0;36m1\u001b[0m\u001b[0;34m,\u001b[0m\u001b[0;36m2\u001b[0m\u001b[0;34m,\u001b[0m\u001b[0;36m3\u001b[0m\u001b[0;34m}\u001b[0m\u001b[0;34m\u001b[0m\u001b[0;34m\u001b[0m\u001b[0m\n\u001b[0;32m----> 2\u001b[0;31m \u001b[0mprint\u001b[0m\u001b[0;34m(\u001b[0m\u001b[0ma\u001b[0m\u001b[0;34m[\u001b[0m\u001b[0;36m2\u001b[0m\u001b[0;34m]\u001b[0m\u001b[0;34m)\u001b[0m\u001b[0;34m\u001b[0m\u001b[0;34m\u001b[0m\u001b[0m\n\u001b[0m",
            "\u001b[0;31mTypeError\u001b[0m: 'set' object is not subscriptable"
          ]
        }
      ]
    },
    {
      "cell_type": "markdown",
      "source": [
        "##Dictionary\n",
        "\n",
        "Dictionary pada Python adalah kumpulan pasangan kunci-nilai (pair of key-value) yang bersifat tidak berurutan. Dictionary dapat digunakan untuk menyimpan data kecil hingga besar. Untuk mengakses datanya, kita harus mengetahui kuncinya (key). Pada Python, dictionary didefinisikan dengan kurawal dan tambahan definisi berikut:\n",
        "\n",
        "1. Setiap elemen pair key-value dipisahkan dengan koma (,).\n",
        "2. Key dan Value dipisahkan dengan titik dua (:).\n",
        "3. Key dan Value dapat berupa tipe variabel/obyek apapun."
      ],
      "metadata": {
        "id": "t8QL-7hAzSUt"
      }
    },
    {
      "cell_type": "markdown",
      "source": [
        "Dictionary bukan termasuk dalam implementasi urutan (sequences), sehingga tidak bisa dipanggil dengan urutan indeks. Misalnya dalam contoh berikut dicoba dengan indeks 2, tetapi menghasilkan error (KeyError) karena tidak ada kunci (key) 2:"
      ],
      "metadata": {
        "id": "tKq1kKXVBxA8"
      }
    },
    {
      "cell_type": "code",
      "source": [
        "d = {1 :'value','key':2}\n",
        "print(type(d))"
      ],
      "metadata": {
        "colab": {
          "base_uri": "https://localhost:8080/"
        },
        "id": "njJOqx4czADf",
        "outputId": "ec00a625-e77b-42a2-d82b-0263c2978f85"
      },
      "execution_count": null,
      "outputs": [
        {
          "output_type": "stream",
          "name": "stdout",
          "text": [
            "<class 'dict'>\n"
          ]
        }
      ]
    },
    {
      "cell_type": "code",
      "source": [
        "print(type(d))\n",
        "print(\"d[1]= \", d[1]);\n",
        "print(\"d['key'] =\", d['key']);"
      ],
      "metadata": {
        "colab": {
          "base_uri": "https://localhost:8080/"
        },
        "id": "zzGHVqJOzlGm",
        "outputId": "7763daff-f7b2-4dc9-b413-152f18420739"
      },
      "execution_count": null,
      "outputs": [
        {
          "output_type": "stream",
          "name": "stdout",
          "text": [
            "<class 'dict'>\n",
            "d[1]=  value\n",
            "d['key'] = 2\n"
          ]
        }
      ]
    },
    {
      "cell_type": "code",
      "source": [
        "q = {5 :'nilai','kunci':7}\n",
        "print(type(q))\n",
        "print(\"q[5]= \",q[5]);\n",
        "print(\"q['kunci'] =\",q['kunci']);"
      ],
      "metadata": {
        "colab": {
          "base_uri": "https://localhost:8080/"
        },
        "id": "FJ4okEVi0AwC",
        "outputId": "d0cd42b5-cd2a-4985-d322-dc707963ba62"
      },
      "execution_count": null,
      "outputs": [
        {
          "output_type": "stream",
          "name": "stdout",
          "text": [
            "<class 'dict'>\n",
            "q[5]=  nilai\n",
            "q['kunci'] = 7\n"
          ]
        }
      ]
    },
    {
      "cell_type": "markdown",
      "source": [
        "##Konversi Struktur Data\n",
        "\n",
        "Fungsi untuk mengubah/konversi struktur data:\n",
        "\n",
        "a. list() : untuk mengubah menjadi list\n",
        "\n",
        "b. tuple() : untuk mengubah menjadi tuple\n",
        "\n",
        "c. set() : untuk mengubah menjadi set\n",
        "\n",
        "d. dict() : untuk mengubah menjadi dictonary\n",
        "\n",
        "Contoh:"
      ],
      "metadata": {
        "id": "hjLp4j_D1LEI"
      }
    },
    {
      "cell_type": "code",
      "source": [
        "list1 = [1,2,3,4,5]\n",
        "list2 = [\"satu\",\"dua\",\"tiga\",\"empat\",\"lima\"]\n",
        "print(\"data =\", list1, \",type =\", type(list1))"
      ],
      "metadata": {
        "colab": {
          "base_uri": "https://localhost:8080/"
        },
        "id": "wmi9iN4j0vEI",
        "outputId": "04ff0566-fdc7-425a-d506-50f3177adbf4"
      },
      "execution_count": null,
      "outputs": [
        {
          "output_type": "stream",
          "name": "stdout",
          "text": [
            "data = [1, 2, 3, 4, 5] ,type = <class 'list'>\n"
          ]
        }
      ]
    },
    {
      "cell_type": "code",
      "source": [
        "#Mengkonversi struktur data list\n",
        "kon_tuple = tuple(list1)\n",
        "kon_set = set(list1)\n",
        "kon_dict = dict(zip(list2,list1))\n",
        "\n",
        "#Melihat data yang telah dikonversi\n",
        "print(kon_tuple)\n",
        "print(kon_set)\n",
        "print(kon_dict)"
      ],
      "metadata": {
        "colab": {
          "base_uri": "https://localhost:8080/"
        },
        "id": "l9ZKS6p9756W",
        "outputId": "e85d1a58-236d-49f5-ff9c-731fa8fb2dcc"
      },
      "execution_count": null,
      "outputs": [
        {
          "output_type": "stream",
          "name": "stdout",
          "text": [
            "(1, 2, 3, 4, 5)\n",
            "{1, 2, 3, 4, 5}\n",
            "{'satu': 1, 'dua': 2, 'tiga': 3, 'empat': 4, 'lima': 5}\n"
          ]
        }
      ]
    },
    {
      "cell_type": "markdown",
      "source": [
        "\n",
        "\n",
        "*   List : kumpulan nilai dengan urutan tertentu, list termasuk data mutable atau dapat diubah keseluruhannya, namun tidak dengan elemen didalamnya.\n",
        "List menggunakan simbol []\n",
        "\n",
        "*   Tuple : Tuple hampir sama seperti list, bedanya nilai atau data pada jenis data tuple tidak dapat diubah atau disebut dengan immutable.\n",
        "Simbol tuple ()\n",
        "\n",
        "* Set : Kumpulan nilai unik dan tidak terurut, elemen elemen yang lebih dari 1 atau ganda akan diabaikan dalam set atau dijadikan 1.\n",
        "Simbol set {}\n",
        "\n",
        "* Dictionary : Kumpulan data dari pasangan 'key' dan 'value' yang tidak terurut.\n",
        "Simbol dictionary {}\n",
        "\n",
        "\n"
      ],
      "metadata": {
        "id": "zvwA_ePT8hTZ"
      }
    },
    {
      "cell_type": "markdown",
      "source": [
        "#Operasi Matematika pada Phyton"
      ],
      "metadata": {
        "id": "X3DBd3DM_Pne"
      }
    },
    {
      "cell_type": "markdown",
      "source": [
        "##Operasi Aritmatika\n",
        "\n",
        "Operator aritmatika adalah operator yang digunakan untuk melakukan perhitungan terhadap data numerik. Berikut merupakan operator aritmatika yang digunakan dalam python :\n",
        "\n",
        "Prioritas operator Setiap operator aritmatika memiliki prioritas yang berbeda. Sebagai contoh :\n",
        "\n",
        "3+57 Seperti yang diketahui, operator perkalian () memiliki prioritas yang lebih tinggi dibandingkan dengan operator penjumlahan (+) sehingga operasi dapat dituliskan sebagai berikut (3+(5*7)).\n",
        "\n",
        "Untuk lebih jelasnya, tabel berikut memperlihatkan urutan prioritas dari operator aritmatika :\n",
        "\n",
        "Berikut merupakan mindmap dari operasi aritmatika :\n",
        "\n",
        "Perhatikan contoh dibawah :\n",
        "\n"
      ],
      "metadata": {
        "id": "K7S-9l9C_UUM"
      }
    },
    {
      "cell_type": "code",
      "source": [
        "x = 5 + 2 *3 / (3-2)**2\n",
        "print(x)"
      ],
      "metadata": {
        "colab": {
          "base_uri": "https://localhost:8080/"
        },
        "id": "8X-PLUyd_XCy",
        "outputId": "86f1329d-d885-46a3-83fc-eb0c1b12d0b6"
      },
      "execution_count": null,
      "outputs": [
        {
          "output_type": "stream",
          "name": "stdout",
          "text": [
            "11.0\n"
          ]
        }
      ]
    },
    {
      "cell_type": "code",
      "source": [
        "x = 10\n",
        "y = 3\n",
        "\n",
        "print(\"x=\",x)\n",
        "print(\"y=\",y)\n",
        "\n",
        "print(\"x+y = \",(x+y))\n",
        "print(\"x-y =\",(x-y))\n",
        "print(\"x*y =\",(x*y))\n",
        "print(\"x/y =\",(x/y))\n",
        "print(\"x//y =\",(x//y))\n",
        "print(\"x%y =\",(x%y))\n",
        "print(\"x**y =\",(x**y))"
      ],
      "metadata": {
        "colab": {
          "base_uri": "https://localhost:8080/"
        },
        "id": "Ib-gThQw_hEG",
        "outputId": "05588623-c146-46a6-de8a-e30e6b9cd8c9"
      },
      "execution_count": null,
      "outputs": [
        {
          "output_type": "stream",
          "name": "stdout",
          "text": [
            "x= 10\n",
            "y= 3\n",
            "x+y =  13\n",
            "x-y = 7\n",
            "x*y = 30\n",
            "x/y = 3.3333333333333335\n",
            "x//y = 3\n",
            "x%y = 1\n",
            "x**y = 1000\n"
          ]
        }
      ]
    },
    {
      "cell_type": "code",
      "source": [
        "#TIPE DATA NUMBER\n",
        "import math\n",
        "\n",
        "#fungsi-fungsinya :\n",
        "#fungsi absolut : abs (x)\n",
        "#fungsi ceiling : ceil (x)\n",
        "#fungsi eksponensial : exp (x)\n",
        "#fungsi logaritma : log(x) dan log10 ()\n",
        "#fungsi maximal : max()\n",
        "#fungsi minimal : min()\n",
        "#fungsi pangkat : pow (x,y)\n",
        "#fungsi round (pembulatan kebawah jika < 0.5) : round ()\n",
        "#fungsi kuadrat : sqrt ()\n",
        "#fungsi trigonometri : sin(), cos(), tan(), radians(), dll\n",
        "\n",
        "#konstanta\n",
        "print(\"pi =\", math.pi)\n",
        "print(\"e =\", math.e)\n",
        "\n",
        "#fungsi pangkat\n",
        "print(math.pow(3,2))\n",
        "\n",
        "#fungsi akar kuadrat\n",
        "print(math.sqrt(9))\n",
        "\n",
        "#fungsi logaritma\n",
        "print(math.log(9))\n",
        "\n",
        "#fungsi trigonometri\n",
        "print(math.sin(math.radians(90)))\n",
        "\n",
        "#fungsi absolut\n",
        "print(abs(-10))\n",
        "print(abs(10))\n",
        "\n",
        "#fungsi ceiling : untuk membulatkan kebawah\n",
        "print(math.ceil(-5.25))\n",
        "print(math.ceil(5.25))\n",
        "print(math.ceil(5.75))\n",
        "\n",
        "#fungsi eksponensial\n",
        "print(math.exp(1))\n",
        "print(math.exp(-1))\n"
      ],
      "metadata": {
        "id": "N4EO87cSASw5",
        "colab": {
          "base_uri": "https://localhost:8080/"
        },
        "outputId": "fcc2d89c-75d2-44c7-c570-3b497aff680c"
      },
      "execution_count": null,
      "outputs": [
        {
          "output_type": "stream",
          "name": "stdout",
          "text": [
            "pi = 3.141592653589793\n",
            "e = 2.718281828459045\n",
            "9.0\n",
            "3.0\n",
            "2.1972245773362196\n",
            "1.0\n",
            "10\n",
            "10\n",
            "-5\n",
            "6\n",
            "6\n",
            "2.718281828459045\n",
            "0.36787944117144233\n"
          ]
        }
      ]
    },
    {
      "cell_type": "markdown",
      "source": [
        "**Menulis fungsi, contohnya :**"
      ],
      "metadata": {
        "id": "PesNxEQZCXVY"
      }
    },
    {
      "cell_type": "code",
      "source": [
        "def penjumlahan(x,y):#input\n",
        "   a=x+y             #proses\n",
        "   return a          #output\n",
        "\n",
        "penjumlahan(1,2)  #menggunakan fungsi\n",
        ""
      ],
      "metadata": {
        "colab": {
          "base_uri": "https://localhost:8080/"
        },
        "id": "UzsVGSLhreEq",
        "outputId": "56ae9204-f0fa-41fc-8dfb-a6e3126747dd"
      },
      "execution_count": null,
      "outputs": [
        {
          "output_type": "execute_result",
          "data": {
            "text/plain": [
              "3"
            ]
          },
          "metadata": {},
          "execution_count": 11
        }
      ]
    },
    {
      "cell_type": "code",
      "source": [
        "def penjumlahan(x,y,z=None):\n",
        "  if (z==None):\n",
        "      return x+y\n",
        "  else :\n",
        "      return x+y+z\n",
        "\n",
        "print(penjumlahan(1,2))\n",
        "print(penjumlahan(1,2,3))"
      ],
      "metadata": {
        "colab": {
          "base_uri": "https://localhost:8080/"
        },
        "id": "MOMforcyrzKj",
        "outputId": "f2839e30-4037-4678-e7d5-1b0a39d9eef9"
      },
      "execution_count": null,
      "outputs": [
        {
          "output_type": "stream",
          "name": "stdout",
          "text": [
            "3\n",
            "6\n"
          ]
        }
      ]
    },
    {
      "cell_type": "code",
      "source": [
        "def penjumlahan(x,y):\n",
        "    return x+y\n",
        "\n",
        "a = penjumlahan\n",
        "a(1,2)"
      ],
      "metadata": {
        "colab": {
          "base_uri": "https://localhost:8080/"
        },
        "id": "m3P1dZrLtJRV",
        "outputId": "d11b8498-5145-4655-9ac5-fb933b077880"
      },
      "execution_count": null,
      "outputs": [
        {
          "output_type": "execute_result",
          "data": {
            "text/plain": [
              "3"
            ]
          },
          "metadata": {},
          "execution_count": 13
        }
      ]
    },
    {
      "cell_type": "code",
      "source": [
        "def pengurangan(a,b):\n",
        "    return a-b\n",
        "\n",
        "a = pengurangan\n",
        "a(5,3)"
      ],
      "metadata": {
        "colab": {
          "base_uri": "https://localhost:8080/"
        },
        "id": "n1nV_28gtZFp",
        "outputId": "ad96bf32-470d-4a81-a149-8c78145ddee8"
      },
      "execution_count": null,
      "outputs": [
        {
          "output_type": "execute_result",
          "data": {
            "text/plain": [
              "2"
            ]
          },
          "metadata": {},
          "execution_count": 14
        }
      ]
    }
  ]
}