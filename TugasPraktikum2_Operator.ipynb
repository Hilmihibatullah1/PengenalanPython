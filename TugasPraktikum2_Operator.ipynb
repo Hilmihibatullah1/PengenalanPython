{
  "nbformat": 4,
  "nbformat_minor": 0,
  "metadata": {
    "colab": {
      "provenance": [],
      "toc_visible": true,
      "authorship_tag": "ABX9TyPvIAGlfC5peMljtAea484e",
      "include_colab_link": true
    },
    "kernelspec": {
      "name": "python3",
      "display_name": "Python 3"
    },
    "language_info": {
      "name": "python"
    }
  },
  "cells": [
    {
      "cell_type": "markdown",
      "metadata": {
        "id": "view-in-github",
        "colab_type": "text"
      },
      "source": [
        "<a href=\"https://colab.research.google.com/github/Hilmihibatullah1/PengenalanPython/blob/main/TugasPraktikum2_Operator.ipynb\" target=\"_parent\"><img src=\"https://colab.research.google.com/assets/colab-badge.svg\" alt=\"Open In Colab\"/></a>"
      ]
    },
    {
      "cell_type": "markdown",
      "source": [
        "#OPERATOR"
      ],
      "metadata": {
        "id": "4J9swqpLw-YW"
      }
    },
    {
      "cell_type": "markdown",
      "source": [
        "##Operator Aritmatika"
      ],
      "metadata": {
        "id": "fOEwIcG-xBa9"
      }
    },
    {
      "cell_type": "code",
      "execution_count": null,
      "metadata": {
        "colab": {
          "base_uri": "https://localhost:8080/"
        },
        "id": "ig6k1qv7w5hb",
        "outputId": "a4de4df9-84e4-46e3-b7ee-fcde1caa4652"
      },
      "outputs": [
        {
          "output_type": "stream",
          "name": "stdout",
          "text": [
            "x + y = 2\n",
            "x - y = 0\n",
            "x * y = 1\n",
            "x / y = 1.0\n",
            "x // y = 1\n",
            "x % y = 0\n",
            "x ** y = 1\n"
          ]
        }
      ],
      "source": [
        "x = 1\n",
        "y = 1\n",
        "\n",
        "print('x + y =',x+y)\n",
        "print('x - y =',x-y)\n",
        "print('x * y =',x*y)\n",
        "print('x / y =',x/y)\n",
        "print('x // y =',x//y)\n",
        "print('x % y =',x%y)\n",
        "print('x ** y =',x**y)"
      ]
    },
    {
      "cell_type": "markdown",
      "source": [
        "##Operator Perbandingan"
      ],
      "metadata": {
        "id": "gWpLQ7jE0kpk"
      }
    },
    {
      "cell_type": "code",
      "source": [
        "x = 1\n",
        "y = 1\n",
        "\n",
        "print('x =',x)\n",
        "print('y =',y)\n",
        "print('\\n')\n",
        "\n",
        "print('x == y hasilnya',x==y)\n",
        "print('x != y hasilnya',x!=y)\n",
        "print('x > y hasilnya',x>y)\n",
        "print('x < y hasilnya',x<y)\n",
        "print('x >= y hasilnya',x>=y)\n",
        "print('x <= y hasilnya',x<=y)\n"
      ],
      "metadata": {
        "colab": {
          "base_uri": "https://localhost:8080/"
        },
        "id": "kkeNlLhS0hRR",
        "outputId": "5baf47a1-7e84-4b75-a77b-e6d13b1e3780"
      },
      "execution_count": null,
      "outputs": [
        {
          "output_type": "stream",
          "name": "stdout",
          "text": [
            "x = 1\n",
            "y = 1\n",
            "\n",
            "\n",
            "x == y hasilnya True\n",
            "x != y hasilnya False\n",
            "x > y hasilnya False\n",
            "x < y hasilnya False\n",
            "x >= y hasilnya True\n",
            "x <= y hasilnya True\n"
          ]
        }
      ]
    },
    {
      "cell_type": "markdown",
      "source": [
        "##Operator Logika"
      ],
      "metadata": {
        "id": "mVU4Kus01f9O"
      }
    },
    {
      "cell_type": "code",
      "source": [
        "a = True\n",
        "b = False\n",
        "\n",
        "print('Hasil dari True and True  :',a and a)\n",
        "print('Hasil dari True and False  :',a and b)\n",
        "print('Hasil dari False and True  :',b and a)\n",
        "print('Hasil dari False and False  :',b and b)\n",
        "\n",
        "print('\\n')\n",
        "\n",
        "print('Hasil dari True or True  :',a or a)\n",
        "print('Hasil dari True or False  :',a or b)\n",
        "print('Hasil dari False or True  :',b or a)\n",
        "print('Hasil dari False or False  :',b or b)\n",
        "\n",
        "print('\\n')\n",
        "\n",
        "print('Hasil dari not True  :',b)\n",
        "print('HAsil dari not False  :',a)"
      ],
      "metadata": {
        "colab": {
          "base_uri": "https://localhost:8080/"
        },
        "id": "-RJW6Ssd1csf",
        "outputId": "5dcf9fd3-ce80-43f7-f3e8-145e80aa009e"
      },
      "execution_count": null,
      "outputs": [
        {
          "output_type": "stream",
          "name": "stdout",
          "text": [
            "Hasil dari True and True  : True\n",
            "Hasil dari True and False  : False\n",
            "Hasil dari False and True  : False\n",
            "Hasil dari False and False  : False\n",
            "\n",
            "\n",
            "Hasil dari True or True  : True\n",
            "Hasil dari True or False  : True\n",
            "Hasil dari False or True  : True\n",
            "Hasil dari False or False  : False\n",
            "\n",
            "\n",
            "Hasil dari not True  : False\n",
            "HAsil dari not False  : True\n"
          ]
        }
      ]
    },
    {
      "cell_type": "markdown",
      "source": [
        "##Operator Bitwise"
      ],
      "metadata": {
        "id": "wO0pl0et5HZ7"
      }
    },
    {
      "cell_type": "code",
      "source": [
        "x = 12\n",
        "y = 21\n",
        "\n",
        "print('x berisi angka',x,'desimal atau',bin(x),'biner')\n",
        "print('y berisi angka',y,'desimal atau',bin(y),'biner')\n",
        "\n",
        "print('\\n')\n",
        "\n",
        "print('x & y :',x & y)\n",
        "print('x | y :',x | y)\n",
        "print('x ^ y :',x ^ y)\n",
        "print('~x    :',~x)\n",
        "print('x << 1:',x << 1)\n",
        "print('x >> 1:',x >> 1)"
      ],
      "metadata": {
        "colab": {
          "base_uri": "https://localhost:8080/"
        },
        "id": "t2rge2FA3M0z",
        "outputId": "23351145-a84f-4ff8-9bc1-9ca0854eced7"
      },
      "execution_count": null,
      "outputs": [
        {
          "output_type": "stream",
          "name": "stdout",
          "text": [
            "x berisi angka 12 desimal atau 0b1100 biner\n",
            "y berisi angka 21 desimal atau 0b10101 biner\n",
            "\n",
            "\n",
            "x & y : 4\n",
            "x | y : 29\n",
            "x ^ y : 25\n",
            "~x    : -13\n",
            "x << 1: 24\n",
            "x >> 1: 6\n"
          ]
        }
      ]
    },
    {
      "cell_type": "markdown",
      "source": [
        "##Operator Assigment (Penugasan)"
      ],
      "metadata": {
        "id": "01QyOymR9Yyl"
      }
    },
    {
      "cell_type": "code",
      "source": [
        "a = 7\n",
        "b = 4\n",
        "b = b + 1\n",
        "c = a + b\n",
        "d = c + c + a\n",
        "e = (c + d)* a\n",
        "\n",
        "print('isi variabel a :',a)\n",
        "print('isi variabel b :',b)\n",
        "print('isi variabel c :',c)\n",
        "print('isi variabel d :',d)\n",
        "print('isi variabel e :',e)"
      ],
      "metadata": {
        "colab": {
          "base_uri": "https://localhost:8080/"
        },
        "id": "eOfaUuKR9WvP",
        "outputId": "d96bf070-4c47-42d8-a9a2-df244160c8a1"
      },
      "execution_count": null,
      "outputs": [
        {
          "output_type": "stream",
          "name": "stdout",
          "text": [
            "isi variabel a : 7\n",
            "isi variabel b : 5\n",
            "isi variabel c : 12\n",
            "isi variabel d : 31\n",
            "isi variabel e : 301\n"
          ]
        }
      ]
    },
    {
      "cell_type": "code",
      "source": [
        "x = 10\n",
        "x += 5\n",
        "print('x += 5 :',x)\n",
        "\n",
        "x = 10\n",
        "x /= 5\n",
        "print('x /= 5 :',x)\n",
        "\n",
        "x = 10\n",
        "x **= 5\n",
        "print('x **= 5 :',x)\n",
        "\n",
        "x = 10\n",
        "x <<= 2\n",
        "print('x <<= 2 :',x)"
      ],
      "metadata": {
        "colab": {
          "base_uri": "https://localhost:8080/"
        },
        "id": "rgw654iN-Kkh",
        "outputId": "3ae6b347-fd46-4a3c-d2cf-fc34a758fb0c"
      },
      "execution_count": null,
      "outputs": [
        {
          "output_type": "stream",
          "name": "stdout",
          "text": [
            "x += 5 : 15\n",
            "x /= 5 : 2.0\n",
            "x **= 5 : 100000\n",
            "x <<= 2 : 40\n"
          ]
        }
      ]
    },
    {
      "cell_type": "markdown",
      "source": [
        "##Operator Identitas"
      ],
      "metadata": {
        "id": "wMZspcFC_jst"
      }
    },
    {
      "cell_type": "code",
      "source": [
        "mk = 'Alpro'\n",
        "print('matakuliah :',x)\n",
        "print('\\'i\\' in matakuliah :', 'a' in mk)\n",
        "print('\\'k\\' in matakuliah :', 'k' in mk)\n",
        "print('\\'d\\' in matakuliah :', 'd' in mk)\n",
        "print('\\n')\n",
        "\n",
        "x = ['a','b','c']\n",
        "print('bar :',x)\n",
        "print('\\'a\\' in bar     :','a' in x)\n",
        "print('\\'a\\' not in bar :','a' not in x)\n",
        "print('\\'d\\' not in bar :','d' not in x)\n",
        "print('\\n')\n",
        "\n",
        "nilai = (65,40,98,77)\n",
        "print('nilai :',nilai)\n",
        "print('102 in nilai :', 65 in nilai)\n",
        "print('102 not in nilai :',100 not in nilai)\n",
        "print('35 not in nilai :',40 in nilai)"
      ],
      "metadata": {
        "colab": {
          "base_uri": "https://localhost:8080/"
        },
        "id": "kUYUimlT_gG3",
        "outputId": "d2aa90c2-db9b-4f31-f6e2-e31ee044db87"
      },
      "execution_count": null,
      "outputs": [
        {
          "output_type": "stream",
          "name": "stdout",
          "text": [
            "matakuliah : 40\n",
            "'i' in matakuliah : False\n",
            "'k' in matakuliah : False\n",
            "'d' in matakuliah : False\n",
            "\n",
            "\n",
            "bar : ['a', 'b', 'c']\n",
            "'a' in bar     : True\n",
            "'a' not in bar : False\n",
            "'d' not in bar : True\n",
            "\n",
            "\n",
            "nilai : (65, 40, 98, 77)\n",
            "102 in nilai : True\n",
            "102 not in nilai : True\n",
            "35 not in nilai : True\n"
          ]
        }
      ]
    },
    {
      "cell_type": "code",
      "source": [
        "x = ['a','b','c']\n",
        "print('bar :',x)\n",
        "print('\\'a\\'is x        :','a' is x)\n",
        "print('\\'a\\'is not x    :','a' is not x)\n",
        "print('\\'d\\' is x :', 'd' is x)\n",
        "print('\\n')\n",
        "\n",
        "mk = 'alpro'\n",
        "print('matakuliah :',x)\n",
        "print('\\'alpro\\' is matakuliah \\t:','alpro' is mk)\n",
        "print('\\'kalkulus\\' is not matakuliah \\t:', 'kalkulus' is mk)\n",
        "print('\\'fondasi\\' is not matakuliah \\t:', 'fondasi' is not mk)\n",
        "print('\\n')\n"
      ],
      "metadata": {
        "colab": {
          "base_uri": "https://localhost:8080/"
        },
        "id": "0Mn3lSyfCFHx",
        "outputId": "0ee0da55-d501-4707-90ea-3d866e418baa"
      },
      "execution_count": null,
      "outputs": [
        {
          "output_type": "stream",
          "name": "stdout",
          "text": [
            "bar : ['a', 'b', 'c']\n",
            "'a'is x        : False\n",
            "'a'is not x    : True\n",
            "'d' is x : False\n",
            "\n",
            "\n",
            "matakuliah : ['a', 'b', 'c']\n",
            "'alpro' is matakuliah \t: True\n",
            "'kalkulus' is not matakuliah \t: False\n",
            "'fondasi' is not matakuliah \t: True\n",
            "\n",
            "\n"
          ]
        }
      ]
    },
    {
      "cell_type": "code",
      "source": [
        "mk = 'alpro'\n",
        "print('matakuliah :',x)\n",
        "print('\\'alpro\\' is matakuliah \\t:', 'alpro' is mk)\n",
        "print('\\'kalkulus\\' is not matakuliah \\t:','kalkulus' is mk )\n",
        "print('\\'fondasi\\' is not matakuliah \\t:', 'fondasi' is not mk)\n",
        "print('\\n')"
      ],
      "metadata": {
        "id": "NIvdQwkdD5P5",
        "colab": {
          "base_uri": "https://localhost:8080/"
        },
        "outputId": "9d8e3bf6-3483-43ad-b2dd-a68c454bbefd"
      },
      "execution_count": null,
      "outputs": [
        {
          "output_type": "stream",
          "name": "stdout",
          "text": [
            "matakuliah : ['a', 'b', 'c']\n",
            "'alpro' is matakuliah \t: True\n",
            "'kalkulus' is not matakuliah \t: False\n",
            "'fondasi' is not matakuliah \t: True\n",
            "\n",
            "\n"
          ]
        }
      ]
    },
    {
      "cell_type": "code",
      "source": [],
      "metadata": {
        "id": "F7R3xAR9v1tp"
      },
      "execution_count": null,
      "outputs": []
    }
  ]
}